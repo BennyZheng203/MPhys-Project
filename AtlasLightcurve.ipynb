{
 "cells": [
  {
   "cell_type": "markdown",
   "metadata": {},
   "source": [
    "# Testing lightcurve plots"
   ]
  },
  {
   "cell_type": "code",
   "execution_count": 84,
   "metadata": {},
   "outputs": [
    {
     "name": "stdout",
     "output_type": "stream",
     "text": [
      "Your token is 938191f3499bfce3ac5b3566e298b2c9106d84d3\n",
      "Store this by running/adding to your .zshrc file:\n",
      "export ATLASFORCED_SECRET_KEY=\"938191f3499bfce3ac5b3566e298b2c9106d84d3\"\n"
     ]
    }
   ],
   "source": [
    "#!/usr/bin/env python3\n",
    "# type: ignore\n",
    "import os\n",
    "import re\n",
    "import sys\n",
    "import time\n",
    "from io import StringIO\n",
    "import matplotlib.pyplot as plt\n",
    "import matplotlib\n",
    "import pandas as pd\n",
    "import requests\n",
    "\n",
    "# Define the output directory\n",
    "output_dir = r'C:\\Users\\jhzhe\\Documents\\output_test'\n",
    "\n",
    "# Ensure the directory exists\n",
    "os.makedirs(output_dir, exist_ok=True)\n",
    "\n",
    "\n",
    "BASEURL = \"https://fallingstar-data.com/forcedphot\"\n",
    "# BASEURL = \"http://127.0.0.1:8000\"\n",
    "\n",
    "if os.environ.get(\"ATLASFORCED_SECRET_KEY\"):\n",
    "    token = os.environ.get(\"ATLASFORCED_SECRET_KEY\")\n",
    "    print(\"Using stored token\")\n",
    "else:\n",
    "    data = {\"username\": \"JinZheng\", \"password\": \"Swagrider2015\"}\n",
    "\n",
    "    resp = requests.post(url=f\"{BASEURL}/api-token-auth/\", data=data)\n",
    "\n",
    "    if resp.status_code == 200:\n",
    "        token = resp.json()[\"token\"]\n",
    "        print(f\"Your token is {token}\")\n",
    "        print(\"Store this by running/adding to your .zshrc file:\")\n",
    "        print(f'export ATLASFORCED_SECRET_KEY=\"{token}\"')\n",
    "    else:\n",
    "        print(f\"ERROR {resp.status_code}\")\n",
    "        print(resp.text)\n",
    "        sys.exit()\n",
    "\n",
    "\n",
    "headers = {\"Authorization\": f\"Token {token}\", \"Accept\": \"application/json\"}"
   ]
  },
  {
   "cell_type": "code",
   "execution_count": 85,
   "metadata": {},
   "outputs": [],
   "source": [
    "import random\n",
    "\n",
    "RA_min = 133\n",
    "RA_max = 135\n",
    "dec_min = 13\n",
    "dec_max = 15\n",
    "\n",
    "RA_list = []\n",
    "dec_list = []\n",
    "\n",
    "for i in range(3):\n",
    "    RA_list.append(round(random.uniform(RA_min, RA_max),2))\n",
    "    dec_list.append(round(random.uniform(dec_min, dec_max),2))\n",
    "\n"
   ]
  },
  {
   "cell_type": "code",
   "execution_count": 86,
   "metadata": {},
   "outputs": [],
   "source": [
    "\n",
    "def fetch_data(ra, dec, mjd_min=58582.8, index=1):\n",
    "    task_url = None\n",
    "    while not task_url:\n",
    "        with requests.Session() as s:\n",
    "            # alternative to token auth\n",
    "            # s.auth = ('USERNAME', 'PASSWORD')\n",
    "            resp = s.post(f\"{BASEURL}/queue/\", headers=headers, data={\"ra\": ra, \"dec\": dec, \"mjd_min\": mjd_min})\n",
    "\n",
    "            if resp.status_code == 201:  # successfully queued\n",
    "                task_url = resp.json()[\"url\"]\n",
    "                print(f\"The task URL is {task_url}\")\n",
    "            elif resp.status_code == 429:  # throttled\n",
    "                message = resp.json()[\"detail\"]\n",
    "                print(f\"{resp.status_code} {message}\")\n",
    "                t_sec = re.findall(r\"available in (\\d+) seconds\", message)\n",
    "                t_min = re.findall(r\"available in (\\d+) minutes\", message)\n",
    "                if t_sec:\n",
    "                    waittime = int(t_sec[0])\n",
    "                elif t_min:\n",
    "                    waittime = int(t_min[0]) * 60\n",
    "                else:\n",
    "                    waittime = 10\n",
    "                print(f\"Waiting {waittime} seconds\")\n",
    "                time.sleep(waittime)\n",
    "            else:\n",
    "                print(f\"ERROR {resp.status_code}\")\n",
    "                print(resp.text)\n",
    "                sys.exit()\n",
    "\n",
    "\n",
    "    result_url = None\n",
    "    taskstarted_printed = False\n",
    "    while not result_url:\n",
    "        with requests.Session() as s:\n",
    "            resp = s.get(task_url, headers=headers)\n",
    "\n",
    "            if resp.status_code == 200:  # HTTP OK\n",
    "                if resp.json()[\"finishtimestamp\"]:\n",
    "                    result_url = resp.json()[\"result_url\"]\n",
    "                    print(f\"Task is complete with results available at {result_url}\")\n",
    "                elif resp.json()[\"starttimestamp\"]:\n",
    "                    if not taskstarted_printed:\n",
    "                        print(f\"Task is running (started at {resp.json()['starttimestamp']})\")\n",
    "                        taskstarted_printed = True\n",
    "                    time.sleep(2)\n",
    "                else:\n",
    "                    print(f\"Waiting for job to start (queued at {resp.json()['timestamp']})\")\n",
    "                    time.sleep(4)\n",
    "            else:\n",
    "                print(f\"ERROR {resp.status_code}\")\n",
    "                print(resp.text)\n",
    "                sys.exit()\n",
    "\n",
    "    with requests.Session() as s:\n",
    "        textdata = s.get(result_url, headers=headers).text\n",
    "\n",
    "        # if we'll be making a lot of requests, keep the web queue from being\n",
    "        # cluttered (and reduce server storage usage) by sending a delete operation\n",
    "        # s.delete(task_url, headers=headers).json()\n",
    "\n",
    "    dfresult = pd.read_csv(StringIO(textdata.replace(\"###\", \"\")), delim_whitespace=True)\n",
    "    file_path_image = os.path.join(output_dir, f'plot_data{index}.png')\n",
    "    file_path_data = os.path.join(output_dir, f'data{index}.csv')\n",
    "    \n",
    "    dfresult.to_csv(file_path_data)\n",
    "\n",
    "    fig = plt.figure()\n",
    "    plt.plot(dfresult['MJD'], dfresult['uJy'])\n",
    "    plt.savefig(file_path_image)\n",
    "    plt.close(fig)\n"
   ]
  },
  {
   "cell_type": "code",
   "execution_count": 87,
   "metadata": {},
   "outputs": [
    {
     "name": "stdout",
     "output_type": "stream",
     "text": [
      "The task URL is https://fallingstar-data.com/forcedphot/queue/1800216/\n",
      "Task is complete with results available at https://fallingstar-data.com/forcedphot/static/results/job1800216.txt\n"
     ]
    },
    {
     "name": "stderr",
     "output_type": "stream",
     "text": [
      "C:\\Users\\jhzhe\\AppData\\Local\\Temp\\ipykernel_23300\\2815477301.py:61: FutureWarning: The 'delim_whitespace' keyword in pd.read_csv is deprecated and will be removed in a future version. Use ``sep='\\s+'`` instead\n",
      "  dfresult = pd.read_csv(StringIO(textdata.replace(\"###\", \"\")), delim_whitespace=True)\n"
     ]
    },
    {
     "name": "stdout",
     "output_type": "stream",
     "text": [
      "The task URL is https://fallingstar-data.com/forcedphot/queue/1800217/\n",
      "Task is running (started at 2024-10-28T20:02:18Z)\n",
      "Task is complete with results available at https://fallingstar-data.com/forcedphot/static/results/job1800217.txt\n"
     ]
    },
    {
     "name": "stderr",
     "output_type": "stream",
     "text": [
      "C:\\Users\\jhzhe\\AppData\\Local\\Temp\\ipykernel_23300\\2815477301.py:61: FutureWarning: The 'delim_whitespace' keyword in pd.read_csv is deprecated and will be removed in a future version. Use ``sep='\\s+'`` instead\n",
      "  dfresult = pd.read_csv(StringIO(textdata.replace(\"###\", \"\")), delim_whitespace=True)\n"
     ]
    },
    {
     "name": "stdout",
     "output_type": "stream",
     "text": [
      "The task URL is https://fallingstar-data.com/forcedphot/queue/1800220/\n",
      "Task is running (started at 2024-10-28T20:02:37Z)\n",
      "Task is complete with results available at https://fallingstar-data.com/forcedphot/static/results/job1800220.txt\n"
     ]
    },
    {
     "name": "stderr",
     "output_type": "stream",
     "text": [
      "C:\\Users\\jhzhe\\AppData\\Local\\Temp\\ipykernel_23300\\2815477301.py:61: FutureWarning: The 'delim_whitespace' keyword in pd.read_csv is deprecated and will be removed in a future version. Use ``sep='\\s+'`` instead\n",
      "  dfresult = pd.read_csv(StringIO(textdata.replace(\"###\", \"\")), delim_whitespace=True)\n"
     ]
    }
   ],
   "source": [
    "for i in range(len(dec_list)):\n",
    "    fetch_data(RA_list[i], dec_list[i], 60581.7, i)\n",
    "\n",
    "\n",
    "    "
   ]
  },
  {
   "cell_type": "code",
   "execution_count": null,
   "metadata": {},
   "outputs": [],
   "source": []
  }
 ],
 "metadata": {
  "kernelspec": {
   "display_name": "Python 3",
   "language": "python",
   "name": "python3"
  },
  "language_info": {
   "codemirror_mode": {
    "name": "ipython",
    "version": 3
   },
   "file_extension": ".py",
   "mimetype": "text/x-python",
   "name": "python",
   "nbconvert_exporter": "python",
   "pygments_lexer": "ipython3",
   "version": "3.12.7"
  }
 },
 "nbformat": 4,
 "nbformat_minor": 2
}
