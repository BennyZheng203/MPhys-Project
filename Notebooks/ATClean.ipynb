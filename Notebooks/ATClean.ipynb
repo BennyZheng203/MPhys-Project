{
 "cells": [
  {
   "cell_type": "code",
   "execution_count": 1,
   "metadata": {},
   "outputs": [],
   "source": [
    "import sys\n",
    "sys.path.append('./atclean')\n"
   ]
  },
  {
   "cell_type": "code",
   "execution_count": null,
   "metadata": {},
   "outputs": [],
   "source": [
    "import subprocess\n",
    "import os\n",
    "\n",
    "def run_script_with_args(script_path, *args):\n",
    "    \"\"\"\n",
    "    Run a Python script with specified arguments.\n",
    "    \n",
    "    Parameters:\n",
    "    - script_path (str): The path to the Python script to run.\n",
    "    - args: Arguments to pass to the script.\n",
    "    \"\"\"\n",
    "    try:\n",
    "        # Construct the command as a list\n",
    "        command = ['python', script_path] + list(args)\n",
    "        subprocess.run(command, check=True)\n",
    "        print(f\"Successfully ran {script_path} with arguments: {' '.join(args)}\")\n",
    "    except subprocess.CalledProcessError as e:\n",
    "        print(f\"Error occurred while running {script_path}: {e}\")\n",
    "\n",
    "def main():\n",
    "    repo_path = \"C:\\Users\\jhzhe\\Cloned_Repos\\ATCleanRepo\"\n",
    "\n",
    "    # Full paths to the scripts\n",
    "    download_script = os.path.join(repo_path, 'download.py')\n",
    "    clean_script = os.path.join(repo_path, 'clean.py')\n",
    "\n",
    "    # Run `download.py` with flags\n",
    "    download_args = ['--coords', '134,-13', '-o', '-l' ,'100', '--mjd', '60539', 'candidate_tde2']\n",
    "    run_script_with_args(download_script, *download_args)\n",
    "\n",
    "    # Run `clean.py` with its specific flags (modify as needed)\n",
    "    #clean_args = ['--clean-flag1', 'value1', '--option2']\n",
    "    #run_script_with_args(clean_script, *clean_args)\n",
    "\n",
    "if __name__ == \"__main__\":\n",
    "    main()\n"
   ]
  }
 ],
 "metadata": {
  "kernelspec": {
   "display_name": "Python 3",
   "language": "python",
   "name": "python3"
  },
  "language_info": {
   "codemirror_mode": {
    "name": "ipython",
    "version": 3
   },
   "file_extension": ".py",
   "mimetype": "text/x-python",
   "name": "python",
   "nbconvert_exporter": "python",
   "pygments_lexer": "ipython3",
   "version": "3.12.7"
  }
 },
 "nbformat": 4,
 "nbformat_minor": 2
}
