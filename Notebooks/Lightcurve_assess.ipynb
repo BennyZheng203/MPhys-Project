{
 "cells": [
  {
   "cell_type": "markdown",
   "metadata": {},
   "source": [
    "# Variability Statistics"
   ]
  },
  {
   "cell_type": "code",
   "execution_count": 36,
   "metadata": {},
   "outputs": [],
   "source": [
    "import pandas as pd\n",
    "import matplotlib.pyplot as plt\n",
    "import numpy as np\n",
    "import os\n",
    "import matplotlib.cm as cm"
   ]
  },
  {
   "cell_type": "code",
   "execution_count": 12,
   "metadata": {},
   "outputs": [
    {
     "name": "stderr",
     "output_type": "stream",
     "text": [
      "C:\\Users\\jhzhe\\AppData\\Local\\Temp\\ipykernel_11068\\307341054.py:3: FutureWarning: The 'delim_whitespace' keyword in pd.read_csv is deprecated and will be removed in a future version. Use ``sep='\\s+'`` instead\n",
      "  df = pd.read_csv(avg_path, delim_whitespace=True)\n"
     ]
    },
    {
     "data": {
      "text/html": [
       "<div>\n",
       "<style scoped>\n",
       "    .dataframe tbody tr th:only-of-type {\n",
       "        vertical-align: middle;\n",
       "    }\n",
       "\n",
       "    .dataframe tbody tr th {\n",
       "        vertical-align: top;\n",
       "    }\n",
       "\n",
       "    .dataframe thead th {\n",
       "        text-align: right;\n",
       "    }\n",
       "</style>\n",
       "<table border=\"1\" class=\"dataframe\">\n",
       "  <thead>\n",
       "    <tr style=\"text-align: right;\">\n",
       "      <th></th>\n",
       "      <th>MJD</th>\n",
       "      <th>MJDbin</th>\n",
       "      <th>uJy</th>\n",
       "      <th>duJy</th>\n",
       "      <th>stdev</th>\n",
       "      <th>x2</th>\n",
       "      <th>Nclip</th>\n",
       "      <th>Ngood</th>\n",
       "      <th>Nexcluded</th>\n",
       "      <th>Mask</th>\n",
       "      <th>m</th>\n",
       "      <th>dm</th>\n",
       "    </tr>\n",
       "  </thead>\n",
       "  <tbody>\n",
       "    <tr>\n",
       "      <th>0</th>\n",
       "      <td>60533.833902</td>\n",
       "      <td>60534.0</td>\n",
       "      <td>12.057076</td>\n",
       "      <td>4.155509</td>\n",
       "      <td>11.382160</td>\n",
       "      <td>0.939286</td>\n",
       "      <td>0</td>\n",
       "      <td>8</td>\n",
       "      <td>0</td>\n",
       "      <td>0x0000</td>\n",
       "      <td>20.426039</td>\n",
       "      <td>NaN</td>\n",
       "    </tr>\n",
       "    <tr>\n",
       "      <th>7</th>\n",
       "      <td>60561.136340</td>\n",
       "      <td>60562.0</td>\n",
       "      <td>-1.559105</td>\n",
       "      <td>6.235014</td>\n",
       "      <td>17.795130</td>\n",
       "      <td>1.915603</td>\n",
       "      <td>0</td>\n",
       "      <td>4</td>\n",
       "      <td>0</td>\n",
       "      <td>0x0000</td>\n",
       "      <td>20.720103</td>\n",
       "      <td>NaN</td>\n",
       "    </tr>\n",
       "    <tr>\n",
       "      <th>12</th>\n",
       "      <td>60583.204278</td>\n",
       "      <td>60582.0</td>\n",
       "      <td>1.987733</td>\n",
       "      <td>6.299305</td>\n",
       "      <td>6.652067</td>\n",
       "      <td>0.272518</td>\n",
       "      <td>0</td>\n",
       "      <td>4</td>\n",
       "      <td>0</td>\n",
       "      <td>0x0000</td>\n",
       "      <td>20.600380</td>\n",
       "      <td>NaN</td>\n",
       "    </tr>\n",
       "    <tr>\n",
       "      <th>13</th>\n",
       "      <td>60585.512061</td>\n",
       "      <td>60586.0</td>\n",
       "      <td>-1.666257</td>\n",
       "      <td>3.988479</td>\n",
       "      <td>13.466007</td>\n",
       "      <td>1.662578</td>\n",
       "      <td>1</td>\n",
       "      <td>7</td>\n",
       "      <td>0</td>\n",
       "      <td>0x0000</td>\n",
       "      <td>21.205179</td>\n",
       "      <td>NaN</td>\n",
       "    </tr>\n",
       "    <tr>\n",
       "      <th>14</th>\n",
       "      <td>60588.515290</td>\n",
       "      <td>60590.0</td>\n",
       "      <td>-0.986735</td>\n",
       "      <td>5.833058</td>\n",
       "      <td>15.033296</td>\n",
       "      <td>1.759076</td>\n",
       "      <td>0</td>\n",
       "      <td>4</td>\n",
       "      <td>0</td>\n",
       "      <td>0x0000</td>\n",
       "      <td>20.792456</td>\n",
       "      <td>NaN</td>\n",
       "    </tr>\n",
       "  </tbody>\n",
       "</table>\n",
       "</div>"
      ],
      "text/plain": [
       "             MJD   MJDbin        uJy      duJy      stdev        x2  Nclip  \\\n",
       "0   60533.833902  60534.0  12.057076  4.155509  11.382160  0.939286      0   \n",
       "7   60561.136340  60562.0  -1.559105  6.235014  17.795130  1.915603      0   \n",
       "12  60583.204278  60582.0   1.987733  6.299305   6.652067  0.272518      0   \n",
       "13  60585.512061  60586.0  -1.666257  3.988479  13.466007  1.662578      1   \n",
       "14  60588.515290  60590.0  -0.986735  5.833058  15.033296  1.759076      0   \n",
       "\n",
       "    Ngood  Nexcluded    Mask          m  dm  \n",
       "0       8          0  0x0000  20.426039 NaN  \n",
       "7       4          0  0x0000  20.720103 NaN  \n",
       "12      4          0  0x0000  20.600380 NaN  \n",
       "13      7          0  0x0000  21.205179 NaN  \n",
       "14      4          0  0x0000  20.792456 NaN  "
      ]
     },
     "execution_count": 12,
     "metadata": {},
     "output_type": "execute_result"
    }
   ],
   "source": [
    "clean_path = r\"c:\\Users\\jhzhe\\Cloned_Repos\\MPhys-Project\\output_data\\atlas_query\\output\\neutrino_139939\\neutrino_139939_8268246_galaxy0\\neutrino_139939_8268246_galaxy0.c.clean.lc.txt\"\n",
    "avg_path = r\"c:\\Users\\jhzhe\\Cloned_Repos\\MPhys-Project\\output_data\\atlas_query\\output\\neutrino_139939\\neutrino_139939_8268246_galaxy0\\neutrino_139939_8268246_galaxy0.c.4.00days.lc.txt\"\n",
    "df = pd.read_csv(avg_path, delim_whitespace=True)\n",
    "filtered_df = df[(df['uJy'].notna()) & (df['MJD'].notna())]\n",
    "filtered_df.head()"
   ]
  },
  {
   "cell_type": "code",
   "execution_count": 22,
   "metadata": {},
   "outputs": [],
   "source": [
    "def features(dataframe, flux_column='uJy'):\n",
    "    N = len(dataframe)\n",
    "    mean_flux = dataframe[flux_column].mean()\n",
    "    mean_flux_squared = (dataframe[flux_column]**2).mean()\n",
    "    std_flux = dataframe[flux_column].std()\n",
    "\n",
    "    weights = 1 / (dataframe['stdev'] ** 2)\n",
    "\n",
    "    weighted_mean = np.sum(dataframe[flux_column] * weights) / np.sum(weights)\n",
    "\n",
    "    chi_squared = (1 / (N - 1)) * np.sum((dataframe[flux_column] - weighted_mean)**2 / (dataframe['stdev']**2))\n",
    "\n",
    "    V_v = (1 / mean_flux) * np.sqrt((N / (N-1)) * (mean_flux_squared - mean_flux**2))\n",
    "\n",
    "    return mean_flux, std_flux, weighted_mean, chi_squared, V_v\n",
    "\n",
    "def txt_finder(atlas_txt_dir, colour, avg):\n",
    "    '''\n",
    "    Finds the appropiate cleaned+averaged txt file for lightcurves\n",
    "    '''\n",
    "    txt_files = []\n",
    "    for root, dirs, files in os.walk(atlas_txt_dir):\n",
    "        for file in files:\n",
    "            if file.endswith(f'{colour}.{avg}.00days.lc.txt'):\n",
    "                txt_files.append(os.path.join(root, file))\n",
    "\n",
    "    if txt_files:\n",
    "        #logging.info(f'{txt_files}')\n",
    "        return txt_files\n",
    "    else:\n",
    "        #logging.info('no light curve data processed')\n",
    "        return"
   ]
  },
  {
   "cell_type": "code",
   "execution_count": 26,
   "metadata": {},
   "outputs": [],
   "source": [
    "atlas_output_dir = r'/users/jhzhe/Cloned_Repos/MPhys-Project/output_data/atlas_query/output'\n",
    "c_txt = txt_finder(atlas_txt_dir=atlas_output_dir, colour='c',avg=4)\n",
    "o_txt = txt_finder(atlas_txt_dir=atlas_output_dir, colour='o', avg=4)"
   ]
  },
  {
   "cell_type": "code",
   "execution_count": null,
   "metadata": {},
   "outputs": [
    {
     "data": {
      "image/png": "[encoded data removed]",
      "text/plain": [
       "<Figure size 640x480 with 1 Axes>"
      ]
     },
     "metadata": {},
     "output_type": "display_data"
    }
   ],
   "source": [
    "import matplotlib.pyplot as plt\n",
    "import numpy as np\n",
    "import pandas as pd\n",
    "\n",
    "colours = ['r', 'g', 'b']\n",
    "files = sorted(c_txt, key=lambda x: int(x.split(\"galaxy\")[-1].split('.')[0]))\n",
    "grouped_files = {}\n",
    "\n",
    "# Group files by neutrino ID\n",
    "for file in files:\n",
    "    # Extract the neutrino ID (e.g., neutrino_139939)\n",
    "    path_parts = file.replace(\"\\\\\", \"/\").split(\"/\")\n",
    "    neutrino_id = next(part for part in path_parts if part.startswith(\"neutrino\") and \"_galaxy\" not in part)\n",
    "    if neutrino_id not in grouped_files:\n",
    "        grouped_files[neutrino_id] = []\n",
    "    grouped_files[neutrino_id].append(file)\n",
    "\n",
    "# Plot data with unique colors and labels\n",
    "for idx, (id, files) in enumerate(grouped_files.items()):\n",
    "    for file in files:\n",
    "        df = pd.read_csv(file, sep=r'\\s+')\n",
    "        filtered_df = df[(df['uJy'].notna()) & (df['MJD'].notna())]\n",
    "        mean_flux, std_flux, weighted_mean, chi_squared, V_v = features(filtered_df)\n",
    "\n",
    "        plt.plot(\n",
    "            np.log(chi_squared),\n",
    "            np.log(np.absolute(V_v)),\n",
    "            'o',\n",
    "            color=colours[idx % len(colours)],  # Use modulo to avoid index overflow cool trick\n",
    "            label=id if file == files[0] else \"\"  # Only label the first point for each ID\n",
    "        )\n",
    "\n",
    "# Add legend\n",
    "plt.legend(loc='best')\n",
    "plt.xlabel('log(chi_squared)')\n",
    "plt.ylabel('log(V_v)')\n",
    "plt.title('Feature Space')\n",
    "plt.show()\n",
    "\n",
    "# large chi_squared means significance deviation from the mean\n",
    "# large V_v is the amplitude of variability\n"
   ]
  },
  {
   "cell_type": "code",
   "execution_count": 19,
   "metadata": {},
   "outputs": [
    {
     "name": "stdout",
     "output_type": "stream",
     "text": [
      "0.2165818695795695\n",
      "-1.6388611099405965\n"
     ]
    }
   ],
   "source": [
    "print(np.log(V_v))\n",
    "print(np.log(chi_squared))"
   ]
  },
  {
   "cell_type": "code",
   "execution_count": null,
   "metadata": {},
   "outputs": [],
   "source": []
  }
 ],
 "metadata": {
  "kernelspec": {
   "display_name": "Python 3",
   "language": "python",
   "name": "python3"
  },
  "language_info": {
   "codemirror_mode": {
    "name": "ipython",
    "version": 3
   },
   "file_extension": ".py",
   "mimetype": "text/x-python",
   "name": "python",
   "nbconvert_exporter": "python",
   "pygments_lexer": "ipython3",
   "version": "3.12.7"
  }
 },
 "nbformat": 4,
 "nbformat_minor": 2
}
