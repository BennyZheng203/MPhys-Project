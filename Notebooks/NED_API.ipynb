{
 "cells": [
  {
   "cell_type": "code",
   "execution_count": 35,
   "metadata": {},
   "outputs": [],
   "source": [
    "import json\n",
    "import requests\n",
    "import urllib.parse\n",
    "import io\n",
    "import matplotlib.pyplot as plt\n",
    "from astropy.table import Table\n",
    "import os\n",
    "import re\n",
    "import sys\n",
    "import time\n",
    "import matplotlib\n",
    "import pandas as pd\n",
    "\n",
    "# VO TAP queries via astroquery:\n",
    "from astroquery.utils.tap.core import TapPlus\n",
    "\n",
    "# Additional information see: https://ned.ipac.caltech.edu\n",
    "# TEST DATA: https://gcn.gsfc.nasa.gov/notices_amon_g_b/139204_39158985.amon\n",
    "output_dir = r'C:\\Users\\jhzhe\\Downloads'\n",
    "ned_tab = \"https://ned.ipac.caltech.edu/tap/sync\"\n",
    "table_name = 'objdir'\n",
    "columns = 'RA,Dec'\n",
    "coord_sys = 'J2000'\n",
    "coord_ra = 7.7106  # From previous example - ned_object_basic_info['Preferred']['Position']['RA']\n",
    "coord_dec = 30.80  # From previous example - ned_object_basic_info['Preferred']['Position']['Dec']\n",
    "sr_deg = 18.59 / 60  # 0.2 arcmin search radius\n",
    "cone = f\"CONTAINS(POINT('{coord_sys}', RA, Dec), CIRCLE('{coord_sys}', {coord_ra}, {coord_dec}, {sr_deg}))=1\"\n",
    "query = f\"SELECT TOP 40 {columns} FROM {table_name} WHERE {cone}\"\n",
    "\n",
    "# Using astroquery\n",
    "ned = TapPlus(url=ned_tab)\n",
    "job = ned.launch_job(query)\n",
    "out = job.get_results()\n",
    "coord_data = out.to_pandas()\n",
    "output_path = os.path.join(output_dir, 'NED_TEST_3.csv')\n"
   ]
  },
  {
   "cell_type": "markdown",
   "metadata": {},
   "source": [
    "## Connect to ATLAS API, to fetch data from csv"
   ]
  },
  {
   "cell_type": "code",
   "execution_count": 33,
   "metadata": {},
   "outputs": [
    {
     "name": "stdout",
     "output_type": "stream",
     "text": [
      "Your token is 938191f3499bfce3ac5b3566e298b2c9106d84d3\n",
      "Store this by running/adding to your .zshrc file:\n",
      "export ATLASFORCED_SECRET_KEY=\"938191f3499bfce3ac5b3566e298b2c9106d84d3\"\n"
     ]
    }
   ],
   "source": [
    "# Define the input/output directory\n",
    "input_dir_txt = r'c:/Users/jhzhe/Documents/MPhys_Neutrino/input_data/test_data'\n",
    "input_dir_csv = r'c:/Users/jhzhe/Documents/MPhys_Neutrino/input_data/test_data_csv'\n",
    "output_dir = r'c:/Users/jhzhe/Documents/MPhys_Neutrino/output_data/test_data'\n",
    "\n",
    "# Ensure the directory exists\n",
    "os.makedirs(output_dir, exist_ok=True)\n",
    "\n",
    "\n",
    "BASEURL = \"https://fallingstar-data.com/forcedphot\"\n",
    "# BASEURL = \"http://127.0.0.1:8000\"\n",
    "\n",
    "if os.environ.get(\"ATLASFORCED_SECRET_KEY\"):\n",
    "    token = os.environ.get(\"ATLASFORCED_SECRET_KEY\")\n",
    "    print(\"Using stored token\")\n",
    "else:\n",
    "    data = {\"username\": \"JinZheng\", \"password\": \"NB,E7,SNCL5mx\"}\n",
    "\n",
    "    resp = requests.post(url=f\"{BASEURL}/api-token-auth/\", data=data)\n",
    "\n",
    "    if resp.status_code == 200:\n",
    "        token = resp.json()[\"token\"]\n",
    "        print(f\"Your token is {token}\")\n",
    "        print(\"Store this by running/adding to your .zshrc file:\")\n",
    "        print(f'export ATLASFORCED_SECRET_KEY=\"{token}\"')\n",
    "    else:\n",
    "        print(f\"ERROR {resp.status_code}\")\n",
    "        print(resp.text)\n",
    "        sys.exit()\n",
    "\n",
    "\n",
    "headers = {\"Authorization\": f\"Token {token}\", \"Accept\": \"application/json\"}\n",
    "\n",
    "\n",
    "def fetch_data(ra, dec, mjd_min=58582.8, mjd_max=58782.8, index=1):\n",
    "    task_url = None\n",
    "    while not task_url:\n",
    "        with requests.Session() as s:\n",
    "            # alternative to token auth\n",
    "            # s.auth = ('USERNAME', 'PASSWORD')\n",
    "            resp = s.post(f\"{BASEURL}/queue/\", headers=headers, data={\"ra\": ra, \"dec\": dec, \"mjd_min\": mjd_min,\n",
    "                                                                      \"mjd_max\": mjd_max})\n",
    "\n",
    "            if resp.status_code == 201:  # successfully queued\n",
    "                task_url = resp.json()[\"url\"]\n",
    "                print(f\"The task URL is {task_url}\")\n",
    "            elif resp.status_code == 429:  # throttled\n",
    "                message = resp.json()[\"detail\"]\n",
    "                print(f\"{resp.status_code} {message}\")\n",
    "                t_sec = re.findall(r\"available in (\\d+) seconds\", message)\n",
    "                t_min = re.findall(r\"available in (\\d+) minutes\", message)\n",
    "                if t_sec:\n",
    "                    waittime = int(t_sec[0])\n",
    "                elif t_min:\n",
    "                    waittime = int(t_min[0]) * 60\n",
    "                else:\n",
    "                    waittime = 10\n",
    "                print(f\"Waiting {waittime} seconds\")\n",
    "                time.sleep(waittime)\n",
    "            else:\n",
    "                print(f\"ERROR {resp.status_code}\")\n",
    "                print(resp.text)\n",
    "                sys.exit()\n",
    "\n",
    "\n",
    "    result_url = None\n",
    "    taskstarted_printed = False\n",
    "    while not result_url:\n",
    "        with requests.Session() as s:\n",
    "            resp = s.get(task_url, headers=headers)\n",
    "\n",
    "            if resp.status_code == 200:  # HTTP OK\n",
    "                if resp.json()[\"finishtimestamp\"]:\n",
    "                    result_url = resp.json()[\"result_url\"]\n",
    "                    print(f\"Task is complete with results available at {result_url}\")\n",
    "                elif resp.json()[\"starttimestamp\"]:\n",
    "                    if not taskstarted_printed:\n",
    "                        print(f\"Task is running (started at {resp.json()['starttimestamp']})\")\n",
    "                        taskstarted_printed = True\n",
    "                    time.sleep(2)\n",
    "                else:\n",
    "                    print(f\"Waiting for job to start (queued at {resp.json()['timestamp']})\")\n",
    "                    time.sleep(4)\n",
    "            else:\n",
    "                print(f\"ERROR {resp.status_code}\")\n",
    "                print(resp.text)\n",
    "                sys.exit()\n",
    "\n",
    "    with requests.Session() as s:\n",
    "        textdata = s.get(result_url, headers=headers).text\n",
    "        file_path_data_txt = os.path.join(input_dir_txt, f'text_data{index}.txt')\n",
    "        with open(file_path_data_txt, 'w') as f:\n",
    "            f.write(textdata)\n",
    "        print(f\"Raw text data saved to {file_path_data_txt}\")\n",
    "        # if we'll be making a lot of requests, keep the web queue from being\n",
    "        # cluttered (and reduce server storage usage) by sending a delete operation\n",
    "        # s.delete(task_url, headers=headers).json()\n",
    "\n",
    "    dfresult = pd.read_csv(StringIO(textdata.replace(\"###\", \"\")), delim_whitespace=True)\n",
    "\n",
    "    file_path_data = os.path.join(input_dir_csv, f'data{index}.csv')\n",
    "    \n",
    "    dfresult.to_csv(file_path_data)\n"
   ]
  },
  {
   "cell_type": "code",
   "execution_count": 39,
   "metadata": {},
   "outputs": [
    {
     "name": "stdout",
     "output_type": "stream",
     "text": [
      "The task URL is https://fallingstar-data.com/forcedphot/queue/1824474/\n",
      "Task is running (started at 2024-11-04T18:32:37Z)\n",
      "Task is complete with results available at https://fallingstar-data.com/forcedphot/static/results/job1824474.txt\n",
      "Raw text data saved to c:/Users/jhzhe/Documents/MPhys_Neutrino/input_data/test_data\\text_data0.txt\n"
     ]
    },
    {
     "name": "stderr",
     "output_type": "stream",
     "text": [
      "C:\\Users\\jhzhe\\AppData\\Local\\Temp\\ipykernel_15820\\227255094.py:99: FutureWarning: The 'delim_whitespace' keyword in pd.read_csv is deprecated and will be removed in a future version. Use ``sep='\\s+'`` instead\n",
      "  dfresult = pd.read_csv(StringIO(textdata.replace(\"###\", \"\")), delim_whitespace=True)\n"
     ]
    },
    {
     "name": "stdout",
     "output_type": "stream",
     "text": [
      "The task URL is https://fallingstar-data.com/forcedphot/queue/1824479/\n",
      "Task is running (started at 2024-11-04T18:35:11Z)\n",
      "Task is complete with results available at https://fallingstar-data.com/forcedphot/static/results/job1824479.txt\n",
      "Raw text data saved to c:/Users/jhzhe/Documents/MPhys_Neutrino/input_data/test_data\\text_data1.txt\n"
     ]
    },
    {
     "name": "stderr",
     "output_type": "stream",
     "text": [
      "C:\\Users\\jhzhe\\AppData\\Local\\Temp\\ipykernel_15820\\227255094.py:99: FutureWarning: The 'delim_whitespace' keyword in pd.read_csv is deprecated and will be removed in a future version. Use ``sep='\\s+'`` instead\n",
      "  dfresult = pd.read_csv(StringIO(textdata.replace(\"###\", \"\")), delim_whitespace=True)\n"
     ]
    },
    {
     "name": "stdout",
     "output_type": "stream",
     "text": [
      "The task URL is https://fallingstar-data.com/forcedphot/queue/1824480/\n",
      "Task is running (started at 2024-11-04T18:35:35Z)\n",
      "Task is complete with results available at https://fallingstar-data.com/forcedphot/static/results/job1824480.txt\n",
      "Raw text data saved to c:/Users/jhzhe/Documents/MPhys_Neutrino/input_data/test_data\\text_data2.txt\n"
     ]
    },
    {
     "name": "stderr",
     "output_type": "stream",
     "text": [
      "C:\\Users\\jhzhe\\AppData\\Local\\Temp\\ipykernel_15820\\227255094.py:99: FutureWarning: The 'delim_whitespace' keyword in pd.read_csv is deprecated and will be removed in a future version. Use ``sep='\\s+'`` instead\n",
      "  dfresult = pd.read_csv(StringIO(textdata.replace(\"###\", \"\")), delim_whitespace=True)\n"
     ]
    },
    {
     "name": "stdout",
     "output_type": "stream",
     "text": [
      "The task URL is https://fallingstar-data.com/forcedphot/queue/1824484/\n",
      "Task is running (started at 2024-11-04T18:37:22Z)\n",
      "Task is complete with results available at https://fallingstar-data.com/forcedphot/static/results/job1824484.txt\n",
      "Raw text data saved to c:/Users/jhzhe/Documents/MPhys_Neutrino/input_data/test_data\\text_data3.txt\n"
     ]
    },
    {
     "name": "stderr",
     "output_type": "stream",
     "text": [
      "C:\\Users\\jhzhe\\AppData\\Local\\Temp\\ipykernel_15820\\227255094.py:99: FutureWarning: The 'delim_whitespace' keyword in pd.read_csv is deprecated and will be removed in a future version. Use ``sep='\\s+'`` instead\n",
      "  dfresult = pd.read_csv(StringIO(textdata.replace(\"###\", \"\")), delim_whitespace=True)\n"
     ]
    },
    {
     "name": "stdout",
     "output_type": "stream",
     "text": [
      "The task URL is https://fallingstar-data.com/forcedphot/queue/1824491/\n",
      "Task is running (started at 2024-11-04T18:39:19Z)\n",
      "Task is complete with results available at https://fallingstar-data.com/forcedphot/static/results/job1824491.txt\n",
      "Raw text data saved to c:/Users/jhzhe/Documents/MPhys_Neutrino/input_data/test_data\\text_data4.txt\n"
     ]
    },
    {
     "name": "stderr",
     "output_type": "stream",
     "text": [
      "C:\\Users\\jhzhe\\AppData\\Local\\Temp\\ipykernel_15820\\227255094.py:99: FutureWarning: The 'delim_whitespace' keyword in pd.read_csv is deprecated and will be removed in a future version. Use ``sep='\\s+'`` instead\n",
      "  dfresult = pd.read_csv(StringIO(textdata.replace(\"###\", \"\")), delim_whitespace=True)\n"
     ]
    },
    {
     "name": "stdout",
     "output_type": "stream",
     "text": [
      "The task URL is https://fallingstar-data.com/forcedphot/queue/1824498/\n",
      "Task is running (started at 2024-11-04T18:41:09Z)\n",
      "Task is complete with results available at https://fallingstar-data.com/forcedphot/static/results/job1824498.txt\n",
      "Raw text data saved to c:/Users/jhzhe/Documents/MPhys_Neutrino/input_data/test_data\\text_data5.txt\n"
     ]
    },
    {
     "name": "stderr",
     "output_type": "stream",
     "text": [
      "C:\\Users\\jhzhe\\AppData\\Local\\Temp\\ipykernel_15820\\227255094.py:99: FutureWarning: The 'delim_whitespace' keyword in pd.read_csv is deprecated and will be removed in a future version. Use ``sep='\\s+'`` instead\n",
      "  dfresult = pd.read_csv(StringIO(textdata.replace(\"###\", \"\")), delim_whitespace=True)\n"
     ]
    },
    {
     "name": "stdout",
     "output_type": "stream",
     "text": [
      "The task URL is https://fallingstar-data.com/forcedphot/queue/1824506/\n",
      "Task is running (started at 2024-11-04T18:43:34Z)\n",
      "Task is complete with results available at https://fallingstar-data.com/forcedphot/static/results/job1824506.txt\n",
      "Raw text data saved to c:/Users/jhzhe/Documents/MPhys_Neutrino/input_data/test_data\\text_data6.txt\n"
     ]
    },
    {
     "name": "stderr",
     "output_type": "stream",
     "text": [
      "C:\\Users\\jhzhe\\AppData\\Local\\Temp\\ipykernel_15820\\227255094.py:99: FutureWarning: The 'delim_whitespace' keyword in pd.read_csv is deprecated and will be removed in a future version. Use ``sep='\\s+'`` instead\n",
      "  dfresult = pd.read_csv(StringIO(textdata.replace(\"###\", \"\")), delim_whitespace=True)\n"
     ]
    },
    {
     "name": "stdout",
     "output_type": "stream",
     "text": [
      "The task URL is https://fallingstar-data.com/forcedphot/queue/1824508/\n",
      "Task is running (started at 2024-11-04T18:43:58Z)\n",
      "Task is complete with results available at https://fallingstar-data.com/forcedphot/static/results/job1824508.txt\n",
      "Raw text data saved to c:/Users/jhzhe/Documents/MPhys_Neutrino/input_data/test_data\\text_data7.txt\n"
     ]
    },
    {
     "name": "stderr",
     "output_type": "stream",
     "text": [
      "C:\\Users\\jhzhe\\AppData\\Local\\Temp\\ipykernel_15820\\227255094.py:99: FutureWarning: The 'delim_whitespace' keyword in pd.read_csv is deprecated and will be removed in a future version. Use ``sep='\\s+'`` instead\n",
      "  dfresult = pd.read_csv(StringIO(textdata.replace(\"###\", \"\")), delim_whitespace=True)\n"
     ]
    },
    {
     "name": "stdout",
     "output_type": "stream",
     "text": [
      "The task URL is https://fallingstar-data.com/forcedphot/queue/1824511/\n",
      "Task is running (started at 2024-11-04T18:45:55Z)\n",
      "Task is complete with results available at https://fallingstar-data.com/forcedphot/static/results/job1824511.txt\n",
      "Raw text data saved to c:/Users/jhzhe/Documents/MPhys_Neutrino/input_data/test_data\\text_data8.txt\n"
     ]
    },
    {
     "name": "stderr",
     "output_type": "stream",
     "text": [
      "C:\\Users\\jhzhe\\AppData\\Local\\Temp\\ipykernel_15820\\227255094.py:99: FutureWarning: The 'delim_whitespace' keyword in pd.read_csv is deprecated and will be removed in a future version. Use ``sep='\\s+'`` instead\n",
      "  dfresult = pd.read_csv(StringIO(textdata.replace(\"###\", \"\")), delim_whitespace=True)\n"
     ]
    },
    {
     "name": "stdout",
     "output_type": "stream",
     "text": [
      "The task URL is https://fallingstar-data.com/forcedphot/queue/1824516/\n",
      "Task is running (started at 2024-11-04T18:47:40Z)\n",
      "Task is complete with results available at https://fallingstar-data.com/forcedphot/static/results/job1824516.txt\n",
      "Raw text data saved to c:/Users/jhzhe/Documents/MPhys_Neutrino/input_data/test_data\\text_data9.txt\n"
     ]
    },
    {
     "name": "stderr",
     "output_type": "stream",
     "text": [
      "C:\\Users\\jhzhe\\AppData\\Local\\Temp\\ipykernel_15820\\227255094.py:99: FutureWarning: The 'delim_whitespace' keyword in pd.read_csv is deprecated and will be removed in a future version. Use ``sep='\\s+'`` instead\n",
      "  dfresult = pd.read_csv(StringIO(textdata.replace(\"###\", \"\")), delim_whitespace=True)\n"
     ]
    },
    {
     "name": "stdout",
     "output_type": "stream",
     "text": [
      "The task URL is https://fallingstar-data.com/forcedphot/queue/1824517/\n",
      "Task is running (started at 2024-11-04T18:48:00Z)\n",
      "Task is complete with results available at https://fallingstar-data.com/forcedphot/static/results/job1824517.txt\n",
      "Raw text data saved to c:/Users/jhzhe/Documents/MPhys_Neutrino/input_data/test_data\\text_data10.txt\n"
     ]
    },
    {
     "name": "stderr",
     "output_type": "stream",
     "text": [
      "C:\\Users\\jhzhe\\AppData\\Local\\Temp\\ipykernel_15820\\227255094.py:99: FutureWarning: The 'delim_whitespace' keyword in pd.read_csv is deprecated and will be removed in a future version. Use ``sep='\\s+'`` instead\n",
      "  dfresult = pd.read_csv(StringIO(textdata.replace(\"###\", \"\")), delim_whitespace=True)\n"
     ]
    },
    {
     "name": "stdout",
     "output_type": "stream",
     "text": [
      "The task URL is https://fallingstar-data.com/forcedphot/queue/1824519/\n",
      "Task is running (started at 2024-11-04T18:49:50Z)\n",
      "Task is complete with results available at https://fallingstar-data.com/forcedphot/static/results/job1824519.txt\n",
      "Raw text data saved to c:/Users/jhzhe/Documents/MPhys_Neutrino/input_data/test_data\\text_data11.txt\n"
     ]
    },
    {
     "name": "stderr",
     "output_type": "stream",
     "text": [
      "C:\\Users\\jhzhe\\AppData\\Local\\Temp\\ipykernel_15820\\227255094.py:99: FutureWarning: The 'delim_whitespace' keyword in pd.read_csv is deprecated and will be removed in a future version. Use ``sep='\\s+'`` instead\n",
      "  dfresult = pd.read_csv(StringIO(textdata.replace(\"###\", \"\")), delim_whitespace=True)\n"
     ]
    },
    {
     "name": "stdout",
     "output_type": "stream",
     "text": [
      "The task URL is https://fallingstar-data.com/forcedphot/queue/1824522/\n",
      "Task is running (started at 2024-11-04T18:50:16Z)\n",
      "Task is complete with results available at https://fallingstar-data.com/forcedphot/static/results/job1824522.txt\n",
      "Raw text data saved to c:/Users/jhzhe/Documents/MPhys_Neutrino/input_data/test_data\\text_data12.txt\n"
     ]
    },
    {
     "name": "stderr",
     "output_type": "stream",
     "text": [
      "C:\\Users\\jhzhe\\AppData\\Local\\Temp\\ipykernel_15820\\227255094.py:99: FutureWarning: The 'delim_whitespace' keyword in pd.read_csv is deprecated and will be removed in a future version. Use ``sep='\\s+'`` instead\n",
      "  dfresult = pd.read_csv(StringIO(textdata.replace(\"###\", \"\")), delim_whitespace=True)\n"
     ]
    },
    {
     "name": "stdout",
     "output_type": "stream",
     "text": [
      "The task URL is https://fallingstar-data.com/forcedphot/queue/1824531/\n",
      "Task is running (started at 2024-11-04T18:53:20Z)\n",
      "Task is complete with results available at https://fallingstar-data.com/forcedphot/static/results/job1824531.txt\n",
      "Raw text data saved to c:/Users/jhzhe/Documents/MPhys_Neutrino/input_data/test_data\\text_data13.txt\n"
     ]
    },
    {
     "name": "stderr",
     "output_type": "stream",
     "text": [
      "C:\\Users\\jhzhe\\AppData\\Local\\Temp\\ipykernel_15820\\227255094.py:99: FutureWarning: The 'delim_whitespace' keyword in pd.read_csv is deprecated and will be removed in a future version. Use ``sep='\\s+'`` instead\n",
      "  dfresult = pd.read_csv(StringIO(textdata.replace(\"###\", \"\")), delim_whitespace=True)\n"
     ]
    },
    {
     "name": "stdout",
     "output_type": "stream",
     "text": [
      "The task URL is https://fallingstar-data.com/forcedphot/queue/1824536/\n",
      "Task is running (started at 2024-11-04T18:55:06Z)\n",
      "Task is complete with results available at https://fallingstar-data.com/forcedphot/static/results/job1824536.txt\n",
      "Raw text data saved to c:/Users/jhzhe/Documents/MPhys_Neutrino/input_data/test_data\\text_data14.txt\n"
     ]
    },
    {
     "name": "stderr",
     "output_type": "stream",
     "text": [
      "C:\\Users\\jhzhe\\AppData\\Local\\Temp\\ipykernel_15820\\227255094.py:99: FutureWarning: The 'delim_whitespace' keyword in pd.read_csv is deprecated and will be removed in a future version. Use ``sep='\\s+'`` instead\n",
      "  dfresult = pd.read_csv(StringIO(textdata.replace(\"###\", \"\")), delim_whitespace=True)\n"
     ]
    },
    {
     "name": "stdout",
     "output_type": "stream",
     "text": [
      "The task URL is https://fallingstar-data.com/forcedphot/queue/1824538/\n",
      "Task is running (started at 2024-11-04T18:56:41Z)\n",
      "Task is complete with results available at https://fallingstar-data.com/forcedphot/static/results/job1824538.txt\n",
      "Raw text data saved to c:/Users/jhzhe/Documents/MPhys_Neutrino/input_data/test_data\\text_data15.txt\n"
     ]
    },
    {
     "name": "stderr",
     "output_type": "stream",
     "text": [
      "C:\\Users\\jhzhe\\AppData\\Local\\Temp\\ipykernel_15820\\227255094.py:99: FutureWarning: The 'delim_whitespace' keyword in pd.read_csv is deprecated and will be removed in a future version. Use ``sep='\\s+'`` instead\n",
      "  dfresult = pd.read_csv(StringIO(textdata.replace(\"###\", \"\")), delim_whitespace=True)\n"
     ]
    },
    {
     "name": "stdout",
     "output_type": "stream",
     "text": [
      "The task URL is https://fallingstar-data.com/forcedphot/queue/1824540/\n",
      "Task is running (started at 2024-11-04T18:57:03Z)\n",
      "Task is complete with results available at https://fallingstar-data.com/forcedphot/static/results/job1824540.txt\n",
      "Raw text data saved to c:/Users/jhzhe/Documents/MPhys_Neutrino/input_data/test_data\\text_data16.txt\n"
     ]
    },
    {
     "name": "stderr",
     "output_type": "stream",
     "text": [
      "C:\\Users\\jhzhe\\AppData\\Local\\Temp\\ipykernel_15820\\227255094.py:99: FutureWarning: The 'delim_whitespace' keyword in pd.read_csv is deprecated and will be removed in a future version. Use ``sep='\\s+'`` instead\n",
      "  dfresult = pd.read_csv(StringIO(textdata.replace(\"###\", \"\")), delim_whitespace=True)\n"
     ]
    },
    {
     "name": "stdout",
     "output_type": "stream",
     "text": [
      "The task URL is https://fallingstar-data.com/forcedphot/queue/1824543/\n",
      "Task is running (started at 2024-11-04T18:58:22Z)\n",
      "Task is complete with results available at https://fallingstar-data.com/forcedphot/static/results/job1824543.txt\n",
      "Raw text data saved to c:/Users/jhzhe/Documents/MPhys_Neutrino/input_data/test_data\\text_data17.txt\n"
     ]
    },
    {
     "name": "stderr",
     "output_type": "stream",
     "text": [
      "C:\\Users\\jhzhe\\AppData\\Local\\Temp\\ipykernel_15820\\227255094.py:99: FutureWarning: The 'delim_whitespace' keyword in pd.read_csv is deprecated and will be removed in a future version. Use ``sep='\\s+'`` instead\n",
      "  dfresult = pd.read_csv(StringIO(textdata.replace(\"###\", \"\")), delim_whitespace=True)\n"
     ]
    },
    {
     "name": "stdout",
     "output_type": "stream",
     "text": [
      "The task URL is https://fallingstar-data.com/forcedphot/queue/1824544/\n",
      "Task is running (started at 2024-11-04T18:59:25Z)\n",
      "Task is complete with results available at https://fallingstar-data.com/forcedphot/static/results/job1824544.txt\n",
      "Raw text data saved to c:/Users/jhzhe/Documents/MPhys_Neutrino/input_data/test_data\\text_data18.txt\n"
     ]
    },
    {
     "name": "stderr",
     "output_type": "stream",
     "text": [
      "C:\\Users\\jhzhe\\AppData\\Local\\Temp\\ipykernel_15820\\227255094.py:99: FutureWarning: The 'delim_whitespace' keyword in pd.read_csv is deprecated and will be removed in a future version. Use ``sep='\\s+'`` instead\n",
      "  dfresult = pd.read_csv(StringIO(textdata.replace(\"###\", \"\")), delim_whitespace=True)\n"
     ]
    },
    {
     "name": "stdout",
     "output_type": "stream",
     "text": [
      "The task URL is https://fallingstar-data.com/forcedphot/queue/1824546/\n",
      "Task is running (started at 2024-11-04T19:01:56Z)\n",
      "Task is complete with results available at https://fallingstar-data.com/forcedphot/static/results/job1824546.txt\n",
      "Raw text data saved to c:/Users/jhzhe/Documents/MPhys_Neutrino/input_data/test_data\\text_data19.txt\n"
     ]
    },
    {
     "name": "stderr",
     "output_type": "stream",
     "text": [
      "C:\\Users\\jhzhe\\AppData\\Local\\Temp\\ipykernel_15820\\227255094.py:99: FutureWarning: The 'delim_whitespace' keyword in pd.read_csv is deprecated and will be removed in a future version. Use ``sep='\\s+'`` instead\n",
      "  dfresult = pd.read_csv(StringIO(textdata.replace(\"###\", \"\")), delim_whitespace=True)\n"
     ]
    },
    {
     "name": "stdout",
     "output_type": "stream",
     "text": [
      "The task URL is https://fallingstar-data.com/forcedphot/queue/1824547/\n",
      "Task is running (started at 2024-11-04T19:02:18Z)\n",
      "Task is complete with results available at https://fallingstar-data.com/forcedphot/static/results/job1824547.txt\n",
      "Raw text data saved to c:/Users/jhzhe/Documents/MPhys_Neutrino/input_data/test_data\\text_data20.txt\n"
     ]
    },
    {
     "name": "stderr",
     "output_type": "stream",
     "text": [
      "C:\\Users\\jhzhe\\AppData\\Local\\Temp\\ipykernel_15820\\227255094.py:99: FutureWarning: The 'delim_whitespace' keyword in pd.read_csv is deprecated and will be removed in a future version. Use ``sep='\\s+'`` instead\n",
      "  dfresult = pd.read_csv(StringIO(textdata.replace(\"###\", \"\")), delim_whitespace=True)\n"
     ]
    },
    {
     "name": "stdout",
     "output_type": "stream",
     "text": [
      "The task URL is https://fallingstar-data.com/forcedphot/queue/1824548/\n",
      "Task is running (started at 2024-11-04T19:02:37Z)\n",
      "Task is complete with results available at https://fallingstar-data.com/forcedphot/static/results/job1824548.txt\n",
      "Raw text data saved to c:/Users/jhzhe/Documents/MPhys_Neutrino/input_data/test_data\\text_data21.txt\n"
     ]
    },
    {
     "name": "stderr",
     "output_type": "stream",
     "text": [
      "C:\\Users\\jhzhe\\AppData\\Local\\Temp\\ipykernel_15820\\227255094.py:99: FutureWarning: The 'delim_whitespace' keyword in pd.read_csv is deprecated and will be removed in a future version. Use ``sep='\\s+'`` instead\n",
      "  dfresult = pd.read_csv(StringIO(textdata.replace(\"###\", \"\")), delim_whitespace=True)\n"
     ]
    },
    {
     "name": "stdout",
     "output_type": "stream",
     "text": [
      "The task URL is https://fallingstar-data.com/forcedphot/queue/1824553/\n",
      "Task is running (started at 2024-11-04T19:07:31Z)\n",
      "Task is complete with results available at https://fallingstar-data.com/forcedphot/static/results/job1824553.txt\n",
      "Raw text data saved to c:/Users/jhzhe/Documents/MPhys_Neutrino/input_data/test_data\\text_data22.txt\n"
     ]
    },
    {
     "name": "stderr",
     "output_type": "stream",
     "text": [
      "C:\\Users\\jhzhe\\AppData\\Local\\Temp\\ipykernel_15820\\227255094.py:99: FutureWarning: The 'delim_whitespace' keyword in pd.read_csv is deprecated and will be removed in a future version. Use ``sep='\\s+'`` instead\n",
      "  dfresult = pd.read_csv(StringIO(textdata.replace(\"###\", \"\")), delim_whitespace=True)\n"
     ]
    },
    {
     "ename": "ConnectionError",
     "evalue": "('Connection aborted.', RemoteDisconnected('Remote end closed connection without response'))",
     "output_type": "error",
     "traceback": [
      "\u001b[1;31m---------------------------------------------------------------------------\u001b[0m",
      "\u001b[1;31mRemoteDisconnected\u001b[0m                        Traceback (most recent call last)",
      "File \u001b[1;32m~\\AppData\\Local\\Packages\\PythonSoftwareFoundation.Python.3.12_qbz5n2kfra8p0\\LocalCache\\local-packages\\Python312\\site-packages\\urllib3\\connectionpool.py:789\u001b[0m, in \u001b[0;36mHTTPConnectionPool.urlopen\u001b[1;34m(self, method, url, body, headers, retries, redirect, assert_same_host, timeout, pool_timeout, release_conn, chunked, body_pos, preload_content, decode_content, **response_kw)\u001b[0m\n\u001b[0;32m    788\u001b[0m \u001b[38;5;66;03m# Make the request on the HTTPConnection object\u001b[39;00m\n\u001b[1;32m--> 789\u001b[0m response \u001b[38;5;241m=\u001b[39m \u001b[38;5;28;43mself\u001b[39;49m\u001b[38;5;241;43m.\u001b[39;49m\u001b[43m_make_request\u001b[49m\u001b[43m(\u001b[49m\n\u001b[0;32m    790\u001b[0m \u001b[43m    \u001b[49m\u001b[43mconn\u001b[49m\u001b[43m,\u001b[49m\n\u001b[0;32m    791\u001b[0m \u001b[43m    \u001b[49m\u001b[43mmethod\u001b[49m\u001b[43m,\u001b[49m\n\u001b[0;32m    792\u001b[0m \u001b[43m    \u001b[49m\u001b[43murl\u001b[49m\u001b[43m,\u001b[49m\n\u001b[0;32m    793\u001b[0m \u001b[43m    \u001b[49m\u001b[43mtimeout\u001b[49m\u001b[38;5;241;43m=\u001b[39;49m\u001b[43mtimeout_obj\u001b[49m\u001b[43m,\u001b[49m\n\u001b[0;32m    794\u001b[0m \u001b[43m    \u001b[49m\u001b[43mbody\u001b[49m\u001b[38;5;241;43m=\u001b[39;49m\u001b[43mbody\u001b[49m\u001b[43m,\u001b[49m\n\u001b[0;32m    795\u001b[0m \u001b[43m    \u001b[49m\u001b[43mheaders\u001b[49m\u001b[38;5;241;43m=\u001b[39;49m\u001b[43mheaders\u001b[49m\u001b[43m,\u001b[49m\n\u001b[0;32m    796\u001b[0m \u001b[43m    \u001b[49m\u001b[43mchunked\u001b[49m\u001b[38;5;241;43m=\u001b[39;49m\u001b[43mchunked\u001b[49m\u001b[43m,\u001b[49m\n\u001b[0;32m    797\u001b[0m \u001b[43m    \u001b[49m\u001b[43mretries\u001b[49m\u001b[38;5;241;43m=\u001b[39;49m\u001b[43mretries\u001b[49m\u001b[43m,\u001b[49m\n\u001b[0;32m    798\u001b[0m \u001b[43m    \u001b[49m\u001b[43mresponse_conn\u001b[49m\u001b[38;5;241;43m=\u001b[39;49m\u001b[43mresponse_conn\u001b[49m\u001b[43m,\u001b[49m\n\u001b[0;32m    799\u001b[0m \u001b[43m    \u001b[49m\u001b[43mpreload_content\u001b[49m\u001b[38;5;241;43m=\u001b[39;49m\u001b[43mpreload_content\u001b[49m\u001b[43m,\u001b[49m\n\u001b[0;32m    800\u001b[0m \u001b[43m    \u001b[49m\u001b[43mdecode_content\u001b[49m\u001b[38;5;241;43m=\u001b[39;49m\u001b[43mdecode_content\u001b[49m\u001b[43m,\u001b[49m\n\u001b[0;32m    801\u001b[0m \u001b[43m    \u001b[49m\u001b[38;5;241;43m*\u001b[39;49m\u001b[38;5;241;43m*\u001b[39;49m\u001b[43mresponse_kw\u001b[49m\u001b[43m,\u001b[49m\n\u001b[0;32m    802\u001b[0m \u001b[43m\u001b[49m\u001b[43m)\u001b[49m\n\u001b[0;32m    804\u001b[0m \u001b[38;5;66;03m# Everything went great!\u001b[39;00m\n",
      "File \u001b[1;32m~\\AppData\\Local\\Packages\\PythonSoftwareFoundation.Python.3.12_qbz5n2kfra8p0\\LocalCache\\local-packages\\Python312\\site-packages\\urllib3\\connectionpool.py:536\u001b[0m, in \u001b[0;36mHTTPConnectionPool._make_request\u001b[1;34m(self, conn, method, url, body, headers, retries, timeout, chunked, response_conn, preload_content, decode_content, enforce_content_length)\u001b[0m\n\u001b[0;32m    535\u001b[0m \u001b[38;5;28;01mtry\u001b[39;00m:\n\u001b[1;32m--> 536\u001b[0m     response \u001b[38;5;241m=\u001b[39m \u001b[43mconn\u001b[49m\u001b[38;5;241;43m.\u001b[39;49m\u001b[43mgetresponse\u001b[49m\u001b[43m(\u001b[49m\u001b[43m)\u001b[49m\n\u001b[0;32m    537\u001b[0m \u001b[38;5;28;01mexcept\u001b[39;00m (BaseSSLError, \u001b[38;5;167;01mOSError\u001b[39;00m) \u001b[38;5;28;01mas\u001b[39;00m e:\n",
      "File \u001b[1;32m~\\AppData\\Local\\Packages\\PythonSoftwareFoundation.Python.3.12_qbz5n2kfra8p0\\LocalCache\\local-packages\\Python312\\site-packages\\urllib3\\connection.py:507\u001b[0m, in \u001b[0;36mHTTPConnection.getresponse\u001b[1;34m(self)\u001b[0m\n\u001b[0;32m    506\u001b[0m \u001b[38;5;66;03m# Get the response from http.client.HTTPConnection\u001b[39;00m\n\u001b[1;32m--> 507\u001b[0m httplib_response \u001b[38;5;241m=\u001b[39m \u001b[38;5;28;43msuper\u001b[39;49m\u001b[43m(\u001b[49m\u001b[43m)\u001b[49m\u001b[38;5;241;43m.\u001b[39;49m\u001b[43mgetresponse\u001b[49m\u001b[43m(\u001b[49m\u001b[43m)\u001b[49m\n\u001b[0;32m    509\u001b[0m \u001b[38;5;28;01mtry\u001b[39;00m:\n",
      "File \u001b[1;32mC:\\Program Files\\WindowsApps\\PythonSoftwareFoundation.Python.3.12_3.12.2032.0_x64__qbz5n2kfra8p0\\Lib\\http\\client.py:1428\u001b[0m, in \u001b[0;36mHTTPConnection.getresponse\u001b[1;34m(self)\u001b[0m\n\u001b[0;32m   1427\u001b[0m \u001b[38;5;28;01mtry\u001b[39;00m:\n\u001b[1;32m-> 1428\u001b[0m     \u001b[43mresponse\u001b[49m\u001b[38;5;241;43m.\u001b[39;49m\u001b[43mbegin\u001b[49m\u001b[43m(\u001b[49m\u001b[43m)\u001b[49m\n\u001b[0;32m   1429\u001b[0m \u001b[38;5;28;01mexcept\u001b[39;00m \u001b[38;5;167;01mConnectionError\u001b[39;00m:\n",
      "File \u001b[1;32mC:\\Program Files\\WindowsApps\\PythonSoftwareFoundation.Python.3.12_3.12.2032.0_x64__qbz5n2kfra8p0\\Lib\\http\\client.py:331\u001b[0m, in \u001b[0;36mHTTPResponse.begin\u001b[1;34m(self)\u001b[0m\n\u001b[0;32m    330\u001b[0m \u001b[38;5;28;01mwhile\u001b[39;00m \u001b[38;5;28;01mTrue\u001b[39;00m:\n\u001b[1;32m--> 331\u001b[0m     version, status, reason \u001b[38;5;241m=\u001b[39m \u001b[38;5;28;43mself\u001b[39;49m\u001b[38;5;241;43m.\u001b[39;49m\u001b[43m_read_status\u001b[49m\u001b[43m(\u001b[49m\u001b[43m)\u001b[49m\n\u001b[0;32m    332\u001b[0m     \u001b[38;5;28;01mif\u001b[39;00m status \u001b[38;5;241m!=\u001b[39m CONTINUE:\n",
      "File \u001b[1;32mC:\\Program Files\\WindowsApps\\PythonSoftwareFoundation.Python.3.12_3.12.2032.0_x64__qbz5n2kfra8p0\\Lib\\http\\client.py:300\u001b[0m, in \u001b[0;36mHTTPResponse._read_status\u001b[1;34m(self)\u001b[0m\n\u001b[0;32m    297\u001b[0m \u001b[38;5;28;01mif\u001b[39;00m \u001b[38;5;129;01mnot\u001b[39;00m line:\n\u001b[0;32m    298\u001b[0m     \u001b[38;5;66;03m# Presumably, the server closed the connection before\u001b[39;00m\n\u001b[0;32m    299\u001b[0m     \u001b[38;5;66;03m# sending a valid response.\u001b[39;00m\n\u001b[1;32m--> 300\u001b[0m     \u001b[38;5;28;01mraise\u001b[39;00m RemoteDisconnected(\u001b[38;5;124m\"\u001b[39m\u001b[38;5;124mRemote end closed connection without\u001b[39m\u001b[38;5;124m\"\u001b[39m\n\u001b[0;32m    301\u001b[0m                              \u001b[38;5;124m\"\u001b[39m\u001b[38;5;124m response\u001b[39m\u001b[38;5;124m\"\u001b[39m)\n\u001b[0;32m    302\u001b[0m \u001b[38;5;28;01mtry\u001b[39;00m:\n",
      "\u001b[1;31mRemoteDisconnected\u001b[0m: Remote end closed connection without response",
      "\nDuring handling of the above exception, another exception occurred:\n",
      "\u001b[1;31mProtocolError\u001b[0m                             Traceback (most recent call last)",
      "File \u001b[1;32m~\\AppData\\Local\\Packages\\PythonSoftwareFoundation.Python.3.12_qbz5n2kfra8p0\\LocalCache\\local-packages\\Python312\\site-packages\\requests\\adapters.py:667\u001b[0m, in \u001b[0;36mHTTPAdapter.send\u001b[1;34m(self, request, stream, timeout, verify, cert, proxies)\u001b[0m\n\u001b[0;32m    666\u001b[0m \u001b[38;5;28;01mtry\u001b[39;00m:\n\u001b[1;32m--> 667\u001b[0m     resp \u001b[38;5;241m=\u001b[39m \u001b[43mconn\u001b[49m\u001b[38;5;241;43m.\u001b[39;49m\u001b[43murlopen\u001b[49m\u001b[43m(\u001b[49m\n\u001b[0;32m    668\u001b[0m \u001b[43m        \u001b[49m\u001b[43mmethod\u001b[49m\u001b[38;5;241;43m=\u001b[39;49m\u001b[43mrequest\u001b[49m\u001b[38;5;241;43m.\u001b[39;49m\u001b[43mmethod\u001b[49m\u001b[43m,\u001b[49m\n\u001b[0;32m    669\u001b[0m \u001b[43m        \u001b[49m\u001b[43murl\u001b[49m\u001b[38;5;241;43m=\u001b[39;49m\u001b[43murl\u001b[49m\u001b[43m,\u001b[49m\n\u001b[0;32m    670\u001b[0m \u001b[43m        \u001b[49m\u001b[43mbody\u001b[49m\u001b[38;5;241;43m=\u001b[39;49m\u001b[43mrequest\u001b[49m\u001b[38;5;241;43m.\u001b[39;49m\u001b[43mbody\u001b[49m\u001b[43m,\u001b[49m\n\u001b[0;32m    671\u001b[0m \u001b[43m        \u001b[49m\u001b[43mheaders\u001b[49m\u001b[38;5;241;43m=\u001b[39;49m\u001b[43mrequest\u001b[49m\u001b[38;5;241;43m.\u001b[39;49m\u001b[43mheaders\u001b[49m\u001b[43m,\u001b[49m\n\u001b[0;32m    672\u001b[0m \u001b[43m        \u001b[49m\u001b[43mredirect\u001b[49m\u001b[38;5;241;43m=\u001b[39;49m\u001b[38;5;28;43;01mFalse\u001b[39;49;00m\u001b[43m,\u001b[49m\n\u001b[0;32m    673\u001b[0m \u001b[43m        \u001b[49m\u001b[43massert_same_host\u001b[49m\u001b[38;5;241;43m=\u001b[39;49m\u001b[38;5;28;43;01mFalse\u001b[39;49;00m\u001b[43m,\u001b[49m\n\u001b[0;32m    674\u001b[0m \u001b[43m        \u001b[49m\u001b[43mpreload_content\u001b[49m\u001b[38;5;241;43m=\u001b[39;49m\u001b[38;5;28;43;01mFalse\u001b[39;49;00m\u001b[43m,\u001b[49m\n\u001b[0;32m    675\u001b[0m \u001b[43m        \u001b[49m\u001b[43mdecode_content\u001b[49m\u001b[38;5;241;43m=\u001b[39;49m\u001b[38;5;28;43;01mFalse\u001b[39;49;00m\u001b[43m,\u001b[49m\n\u001b[0;32m    676\u001b[0m \u001b[43m        \u001b[49m\u001b[43mretries\u001b[49m\u001b[38;5;241;43m=\u001b[39;49m\u001b[38;5;28;43mself\u001b[39;49m\u001b[38;5;241;43m.\u001b[39;49m\u001b[43mmax_retries\u001b[49m\u001b[43m,\u001b[49m\n\u001b[0;32m    677\u001b[0m \u001b[43m        \u001b[49m\u001b[43mtimeout\u001b[49m\u001b[38;5;241;43m=\u001b[39;49m\u001b[43mtimeout\u001b[49m\u001b[43m,\u001b[49m\n\u001b[0;32m    678\u001b[0m \u001b[43m        \u001b[49m\u001b[43mchunked\u001b[49m\u001b[38;5;241;43m=\u001b[39;49m\u001b[43mchunked\u001b[49m\u001b[43m,\u001b[49m\n\u001b[0;32m    679\u001b[0m \u001b[43m    \u001b[49m\u001b[43m)\u001b[49m\n\u001b[0;32m    681\u001b[0m \u001b[38;5;28;01mexcept\u001b[39;00m (ProtocolError, \u001b[38;5;167;01mOSError\u001b[39;00m) \u001b[38;5;28;01mas\u001b[39;00m err:\n",
      "File \u001b[1;32m~\\AppData\\Local\\Packages\\PythonSoftwareFoundation.Python.3.12_qbz5n2kfra8p0\\LocalCache\\local-packages\\Python312\\site-packages\\urllib3\\connectionpool.py:843\u001b[0m, in \u001b[0;36mHTTPConnectionPool.urlopen\u001b[1;34m(self, method, url, body, headers, retries, redirect, assert_same_host, timeout, pool_timeout, release_conn, chunked, body_pos, preload_content, decode_content, **response_kw)\u001b[0m\n\u001b[0;32m    841\u001b[0m     new_e \u001b[38;5;241m=\u001b[39m ProtocolError(\u001b[38;5;124m\"\u001b[39m\u001b[38;5;124mConnection aborted.\u001b[39m\u001b[38;5;124m\"\u001b[39m, new_e)\n\u001b[1;32m--> 843\u001b[0m retries \u001b[38;5;241m=\u001b[39m \u001b[43mretries\u001b[49m\u001b[38;5;241;43m.\u001b[39;49m\u001b[43mincrement\u001b[49m\u001b[43m(\u001b[49m\n\u001b[0;32m    844\u001b[0m \u001b[43m    \u001b[49m\u001b[43mmethod\u001b[49m\u001b[43m,\u001b[49m\u001b[43m \u001b[49m\u001b[43murl\u001b[49m\u001b[43m,\u001b[49m\u001b[43m \u001b[49m\u001b[43merror\u001b[49m\u001b[38;5;241;43m=\u001b[39;49m\u001b[43mnew_e\u001b[49m\u001b[43m,\u001b[49m\u001b[43m \u001b[49m\u001b[43m_pool\u001b[49m\u001b[38;5;241;43m=\u001b[39;49m\u001b[38;5;28;43mself\u001b[39;49m\u001b[43m,\u001b[49m\u001b[43m \u001b[49m\u001b[43m_stacktrace\u001b[49m\u001b[38;5;241;43m=\u001b[39;49m\u001b[43msys\u001b[49m\u001b[38;5;241;43m.\u001b[39;49m\u001b[43mexc_info\u001b[49m\u001b[43m(\u001b[49m\u001b[43m)\u001b[49m\u001b[43m[\u001b[49m\u001b[38;5;241;43m2\u001b[39;49m\u001b[43m]\u001b[49m\n\u001b[0;32m    845\u001b[0m \u001b[43m\u001b[49m\u001b[43m)\u001b[49m\n\u001b[0;32m    846\u001b[0m retries\u001b[38;5;241m.\u001b[39msleep()\n",
      "File \u001b[1;32m~\\AppData\\Local\\Packages\\PythonSoftwareFoundation.Python.3.12_qbz5n2kfra8p0\\LocalCache\\local-packages\\Python312\\site-packages\\urllib3\\util\\retry.py:474\u001b[0m, in \u001b[0;36mRetry.increment\u001b[1;34m(self, method, url, response, error, _pool, _stacktrace)\u001b[0m\n\u001b[0;32m    473\u001b[0m \u001b[38;5;28;01mif\u001b[39;00m read \u001b[38;5;129;01mis\u001b[39;00m \u001b[38;5;28;01mFalse\u001b[39;00m \u001b[38;5;129;01mor\u001b[39;00m method \u001b[38;5;129;01mis\u001b[39;00m \u001b[38;5;28;01mNone\u001b[39;00m \u001b[38;5;129;01mor\u001b[39;00m \u001b[38;5;129;01mnot\u001b[39;00m \u001b[38;5;28mself\u001b[39m\u001b[38;5;241m.\u001b[39m_is_method_retryable(method):\n\u001b[1;32m--> 474\u001b[0m     \u001b[38;5;28;01mraise\u001b[39;00m \u001b[43mreraise\u001b[49m\u001b[43m(\u001b[49m\u001b[38;5;28;43mtype\u001b[39;49m\u001b[43m(\u001b[49m\u001b[43merror\u001b[49m\u001b[43m)\u001b[49m\u001b[43m,\u001b[49m\u001b[43m \u001b[49m\u001b[43merror\u001b[49m\u001b[43m,\u001b[49m\u001b[43m \u001b[49m\u001b[43m_stacktrace\u001b[49m\u001b[43m)\u001b[49m\n\u001b[0;32m    475\u001b[0m \u001b[38;5;28;01melif\u001b[39;00m read \u001b[38;5;129;01mis\u001b[39;00m \u001b[38;5;129;01mnot\u001b[39;00m \u001b[38;5;28;01mNone\u001b[39;00m:\n",
      "File \u001b[1;32m~\\AppData\\Local\\Packages\\PythonSoftwareFoundation.Python.3.12_qbz5n2kfra8p0\\LocalCache\\local-packages\\Python312\\site-packages\\urllib3\\util\\util.py:38\u001b[0m, in \u001b[0;36mreraise\u001b[1;34m(tp, value, tb)\u001b[0m\n\u001b[0;32m     37\u001b[0m \u001b[38;5;28;01mif\u001b[39;00m value\u001b[38;5;241m.\u001b[39m__traceback__ \u001b[38;5;129;01mis\u001b[39;00m \u001b[38;5;129;01mnot\u001b[39;00m tb:\n\u001b[1;32m---> 38\u001b[0m     \u001b[38;5;28;01mraise\u001b[39;00m value\u001b[38;5;241m.\u001b[39mwith_traceback(tb)\n\u001b[0;32m     39\u001b[0m \u001b[38;5;28;01mraise\u001b[39;00m value\n",
      "File \u001b[1;32m~\\AppData\\Local\\Packages\\PythonSoftwareFoundation.Python.3.12_qbz5n2kfra8p0\\LocalCache\\local-packages\\Python312\\site-packages\\urllib3\\connectionpool.py:789\u001b[0m, in \u001b[0;36mHTTPConnectionPool.urlopen\u001b[1;34m(self, method, url, body, headers, retries, redirect, assert_same_host, timeout, pool_timeout, release_conn, chunked, body_pos, preload_content, decode_content, **response_kw)\u001b[0m\n\u001b[0;32m    788\u001b[0m \u001b[38;5;66;03m# Make the request on the HTTPConnection object\u001b[39;00m\n\u001b[1;32m--> 789\u001b[0m response \u001b[38;5;241m=\u001b[39m \u001b[38;5;28;43mself\u001b[39;49m\u001b[38;5;241;43m.\u001b[39;49m\u001b[43m_make_request\u001b[49m\u001b[43m(\u001b[49m\n\u001b[0;32m    790\u001b[0m \u001b[43m    \u001b[49m\u001b[43mconn\u001b[49m\u001b[43m,\u001b[49m\n\u001b[0;32m    791\u001b[0m \u001b[43m    \u001b[49m\u001b[43mmethod\u001b[49m\u001b[43m,\u001b[49m\n\u001b[0;32m    792\u001b[0m \u001b[43m    \u001b[49m\u001b[43murl\u001b[49m\u001b[43m,\u001b[49m\n\u001b[0;32m    793\u001b[0m \u001b[43m    \u001b[49m\u001b[43mtimeout\u001b[49m\u001b[38;5;241;43m=\u001b[39;49m\u001b[43mtimeout_obj\u001b[49m\u001b[43m,\u001b[49m\n\u001b[0;32m    794\u001b[0m \u001b[43m    \u001b[49m\u001b[43mbody\u001b[49m\u001b[38;5;241;43m=\u001b[39;49m\u001b[43mbody\u001b[49m\u001b[43m,\u001b[49m\n\u001b[0;32m    795\u001b[0m \u001b[43m    \u001b[49m\u001b[43mheaders\u001b[49m\u001b[38;5;241;43m=\u001b[39;49m\u001b[43mheaders\u001b[49m\u001b[43m,\u001b[49m\n\u001b[0;32m    796\u001b[0m \u001b[43m    \u001b[49m\u001b[43mchunked\u001b[49m\u001b[38;5;241;43m=\u001b[39;49m\u001b[43mchunked\u001b[49m\u001b[43m,\u001b[49m\n\u001b[0;32m    797\u001b[0m \u001b[43m    \u001b[49m\u001b[43mretries\u001b[49m\u001b[38;5;241;43m=\u001b[39;49m\u001b[43mretries\u001b[49m\u001b[43m,\u001b[49m\n\u001b[0;32m    798\u001b[0m \u001b[43m    \u001b[49m\u001b[43mresponse_conn\u001b[49m\u001b[38;5;241;43m=\u001b[39;49m\u001b[43mresponse_conn\u001b[49m\u001b[43m,\u001b[49m\n\u001b[0;32m    799\u001b[0m \u001b[43m    \u001b[49m\u001b[43mpreload_content\u001b[49m\u001b[38;5;241;43m=\u001b[39;49m\u001b[43mpreload_content\u001b[49m\u001b[43m,\u001b[49m\n\u001b[0;32m    800\u001b[0m \u001b[43m    \u001b[49m\u001b[43mdecode_content\u001b[49m\u001b[38;5;241;43m=\u001b[39;49m\u001b[43mdecode_content\u001b[49m\u001b[43m,\u001b[49m\n\u001b[0;32m    801\u001b[0m \u001b[43m    \u001b[49m\u001b[38;5;241;43m*\u001b[39;49m\u001b[38;5;241;43m*\u001b[39;49m\u001b[43mresponse_kw\u001b[49m\u001b[43m,\u001b[49m\n\u001b[0;32m    802\u001b[0m \u001b[43m\u001b[49m\u001b[43m)\u001b[49m\n\u001b[0;32m    804\u001b[0m \u001b[38;5;66;03m# Everything went great!\u001b[39;00m\n",
      "File \u001b[1;32m~\\AppData\\Local\\Packages\\PythonSoftwareFoundation.Python.3.12_qbz5n2kfra8p0\\LocalCache\\local-packages\\Python312\\site-packages\\urllib3\\connectionpool.py:536\u001b[0m, in \u001b[0;36mHTTPConnectionPool._make_request\u001b[1;34m(self, conn, method, url, body, headers, retries, timeout, chunked, response_conn, preload_content, decode_content, enforce_content_length)\u001b[0m\n\u001b[0;32m    535\u001b[0m \u001b[38;5;28;01mtry\u001b[39;00m:\n\u001b[1;32m--> 536\u001b[0m     response \u001b[38;5;241m=\u001b[39m \u001b[43mconn\u001b[49m\u001b[38;5;241;43m.\u001b[39;49m\u001b[43mgetresponse\u001b[49m\u001b[43m(\u001b[49m\u001b[43m)\u001b[49m\n\u001b[0;32m    537\u001b[0m \u001b[38;5;28;01mexcept\u001b[39;00m (BaseSSLError, \u001b[38;5;167;01mOSError\u001b[39;00m) \u001b[38;5;28;01mas\u001b[39;00m e:\n",
      "File \u001b[1;32m~\\AppData\\Local\\Packages\\PythonSoftwareFoundation.Python.3.12_qbz5n2kfra8p0\\LocalCache\\local-packages\\Python312\\site-packages\\urllib3\\connection.py:507\u001b[0m, in \u001b[0;36mHTTPConnection.getresponse\u001b[1;34m(self)\u001b[0m\n\u001b[0;32m    506\u001b[0m \u001b[38;5;66;03m# Get the response from http.client.HTTPConnection\u001b[39;00m\n\u001b[1;32m--> 507\u001b[0m httplib_response \u001b[38;5;241m=\u001b[39m \u001b[38;5;28;43msuper\u001b[39;49m\u001b[43m(\u001b[49m\u001b[43m)\u001b[49m\u001b[38;5;241;43m.\u001b[39;49m\u001b[43mgetresponse\u001b[49m\u001b[43m(\u001b[49m\u001b[43m)\u001b[49m\n\u001b[0;32m    509\u001b[0m \u001b[38;5;28;01mtry\u001b[39;00m:\n",
      "File \u001b[1;32mC:\\Program Files\\WindowsApps\\PythonSoftwareFoundation.Python.3.12_3.12.2032.0_x64__qbz5n2kfra8p0\\Lib\\http\\client.py:1428\u001b[0m, in \u001b[0;36mHTTPConnection.getresponse\u001b[1;34m(self)\u001b[0m\n\u001b[0;32m   1427\u001b[0m \u001b[38;5;28;01mtry\u001b[39;00m:\n\u001b[1;32m-> 1428\u001b[0m     \u001b[43mresponse\u001b[49m\u001b[38;5;241;43m.\u001b[39;49m\u001b[43mbegin\u001b[49m\u001b[43m(\u001b[49m\u001b[43m)\u001b[49m\n\u001b[0;32m   1429\u001b[0m \u001b[38;5;28;01mexcept\u001b[39;00m \u001b[38;5;167;01mConnectionError\u001b[39;00m:\n",
      "File \u001b[1;32mC:\\Program Files\\WindowsApps\\PythonSoftwareFoundation.Python.3.12_3.12.2032.0_x64__qbz5n2kfra8p0\\Lib\\http\\client.py:331\u001b[0m, in \u001b[0;36mHTTPResponse.begin\u001b[1;34m(self)\u001b[0m\n\u001b[0;32m    330\u001b[0m \u001b[38;5;28;01mwhile\u001b[39;00m \u001b[38;5;28;01mTrue\u001b[39;00m:\n\u001b[1;32m--> 331\u001b[0m     version, status, reason \u001b[38;5;241m=\u001b[39m \u001b[38;5;28;43mself\u001b[39;49m\u001b[38;5;241;43m.\u001b[39;49m\u001b[43m_read_status\u001b[49m\u001b[43m(\u001b[49m\u001b[43m)\u001b[49m\n\u001b[0;32m    332\u001b[0m     \u001b[38;5;28;01mif\u001b[39;00m status \u001b[38;5;241m!=\u001b[39m CONTINUE:\n",
      "File \u001b[1;32mC:\\Program Files\\WindowsApps\\PythonSoftwareFoundation.Python.3.12_3.12.2032.0_x64__qbz5n2kfra8p0\\Lib\\http\\client.py:300\u001b[0m, in \u001b[0;36mHTTPResponse._read_status\u001b[1;34m(self)\u001b[0m\n\u001b[0;32m    297\u001b[0m \u001b[38;5;28;01mif\u001b[39;00m \u001b[38;5;129;01mnot\u001b[39;00m line:\n\u001b[0;32m    298\u001b[0m     \u001b[38;5;66;03m# Presumably, the server closed the connection before\u001b[39;00m\n\u001b[0;32m    299\u001b[0m     \u001b[38;5;66;03m# sending a valid response.\u001b[39;00m\n\u001b[1;32m--> 300\u001b[0m     \u001b[38;5;28;01mraise\u001b[39;00m RemoteDisconnected(\u001b[38;5;124m\"\u001b[39m\u001b[38;5;124mRemote end closed connection without\u001b[39m\u001b[38;5;124m\"\u001b[39m\n\u001b[0;32m    301\u001b[0m                              \u001b[38;5;124m\"\u001b[39m\u001b[38;5;124m response\u001b[39m\u001b[38;5;124m\"\u001b[39m)\n\u001b[0;32m    302\u001b[0m \u001b[38;5;28;01mtry\u001b[39;00m:\n",
      "\u001b[1;31mProtocolError\u001b[0m: ('Connection aborted.', RemoteDisconnected('Remote end closed connection without response'))",
      "\nDuring handling of the above exception, another exception occurred:\n",
      "\u001b[1;31mConnectionError\u001b[0m                           Traceback (most recent call last)",
      "Cell \u001b[1;32mIn[39], line 7\u001b[0m\n\u001b[0;32m      4\u001b[0m mjd_max \u001b[38;5;241m=\u001b[39m \u001b[38;5;241m20596\u001b[39m \u001b[38;5;241m+\u001b[39m \u001b[38;5;241m40000\u001b[39m\n\u001b[0;32m      6\u001b[0m \u001b[38;5;28;01mfor\u001b[39;00m a, (b,c) \u001b[38;5;129;01min\u001b[39;00m \u001b[38;5;28menumerate\u001b[39m(\u001b[38;5;28mzip\u001b[39m(ra_list, dec_list)):\n\u001b[1;32m----> 7\u001b[0m     \u001b[43mfetch_data\u001b[49m\u001b[43m(\u001b[49m\u001b[43mb\u001b[49m\u001b[43m,\u001b[49m\u001b[43m \u001b[49m\u001b[43mc\u001b[49m\u001b[43m,\u001b[49m\u001b[43m \u001b[49m\u001b[43mmjd_min\u001b[49m\u001b[38;5;241;43m=\u001b[39;49m\u001b[43mmjd_min\u001b[49m\u001b[43m,\u001b[49m\u001b[43m \u001b[49m\u001b[43mmjd_max\u001b[49m\u001b[38;5;241;43m=\u001b[39;49m\u001b[43mmjd_max\u001b[49m\u001b[43m,\u001b[49m\u001b[43m \u001b[49m\u001b[43mindex\u001b[49m\u001b[43m \u001b[49m\u001b[38;5;241;43m=\u001b[39;49m\u001b[43m \u001b[49m\u001b[43ma\u001b[49m\u001b[43m)\u001b[49m\n",
      "Cell \u001b[1;32mIn[33], line 41\u001b[0m, in \u001b[0;36mfetch_data\u001b[1;34m(ra, dec, mjd_min, mjd_max, index)\u001b[0m\n\u001b[0;32m     37\u001b[0m \u001b[38;5;28;01mwhile\u001b[39;00m \u001b[38;5;129;01mnot\u001b[39;00m task_url:\n\u001b[0;32m     38\u001b[0m     \u001b[38;5;28;01mwith\u001b[39;00m requests\u001b[38;5;241m.\u001b[39mSession() \u001b[38;5;28;01mas\u001b[39;00m s:\n\u001b[0;32m     39\u001b[0m         \u001b[38;5;66;03m# alternative to token auth\u001b[39;00m\n\u001b[0;32m     40\u001b[0m         \u001b[38;5;66;03m# s.auth = ('USERNAME', 'PASSWORD')\u001b[39;00m\n\u001b[1;32m---> 41\u001b[0m         resp \u001b[38;5;241m=\u001b[39m \u001b[43ms\u001b[49m\u001b[38;5;241;43m.\u001b[39;49m\u001b[43mpost\u001b[49m\u001b[43m(\u001b[49m\u001b[38;5;124;43mf\u001b[39;49m\u001b[38;5;124;43m\"\u001b[39;49m\u001b[38;5;132;43;01m{\u001b[39;49;00m\u001b[43mBASEURL\u001b[49m\u001b[38;5;132;43;01m}\u001b[39;49;00m\u001b[38;5;124;43m/queue/\u001b[39;49m\u001b[38;5;124;43m\"\u001b[39;49m\u001b[43m,\u001b[49m\u001b[43m \u001b[49m\u001b[43mheaders\u001b[49m\u001b[38;5;241;43m=\u001b[39;49m\u001b[43mheaders\u001b[49m\u001b[43m,\u001b[49m\u001b[43m \u001b[49m\u001b[43mdata\u001b[49m\u001b[38;5;241;43m=\u001b[39;49m\u001b[43m{\u001b[49m\u001b[38;5;124;43m\"\u001b[39;49m\u001b[38;5;124;43mra\u001b[39;49m\u001b[38;5;124;43m\"\u001b[39;49m\u001b[43m:\u001b[49m\u001b[43m \u001b[49m\u001b[43mra\u001b[49m\u001b[43m,\u001b[49m\u001b[43m \u001b[49m\u001b[38;5;124;43m\"\u001b[39;49m\u001b[38;5;124;43mdec\u001b[39;49m\u001b[38;5;124;43m\"\u001b[39;49m\u001b[43m:\u001b[49m\u001b[43m \u001b[49m\u001b[43mdec\u001b[49m\u001b[43m,\u001b[49m\u001b[43m \u001b[49m\u001b[38;5;124;43m\"\u001b[39;49m\u001b[38;5;124;43mmjd_min\u001b[39;49m\u001b[38;5;124;43m\"\u001b[39;49m\u001b[43m:\u001b[49m\u001b[43m \u001b[49m\u001b[43mmjd_min\u001b[49m\u001b[43m,\u001b[49m\n\u001b[0;32m     42\u001b[0m \u001b[43m                                                                  \u001b[49m\u001b[38;5;124;43m\"\u001b[39;49m\u001b[38;5;124;43mmjd_max\u001b[39;49m\u001b[38;5;124;43m\"\u001b[39;49m\u001b[43m:\u001b[49m\u001b[43m \u001b[49m\u001b[43mmjd_max\u001b[49m\u001b[43m}\u001b[49m\u001b[43m)\u001b[49m\n\u001b[0;32m     44\u001b[0m         \u001b[38;5;28;01mif\u001b[39;00m resp\u001b[38;5;241m.\u001b[39mstatus_code \u001b[38;5;241m==\u001b[39m \u001b[38;5;241m201\u001b[39m:  \u001b[38;5;66;03m# successfully queued\u001b[39;00m\n\u001b[0;32m     45\u001b[0m             task_url \u001b[38;5;241m=\u001b[39m resp\u001b[38;5;241m.\u001b[39mjson()[\u001b[38;5;124m\"\u001b[39m\u001b[38;5;124murl\u001b[39m\u001b[38;5;124m\"\u001b[39m]\n",
      "File \u001b[1;32m~\\AppData\\Local\\Packages\\PythonSoftwareFoundation.Python.3.12_qbz5n2kfra8p0\\LocalCache\\local-packages\\Python312\\site-packages\\requests\\sessions.py:637\u001b[0m, in \u001b[0;36mSession.post\u001b[1;34m(self, url, data, json, **kwargs)\u001b[0m\n\u001b[0;32m    626\u001b[0m \u001b[38;5;28;01mdef\u001b[39;00m \u001b[38;5;21mpost\u001b[39m(\u001b[38;5;28mself\u001b[39m, url, data\u001b[38;5;241m=\u001b[39m\u001b[38;5;28;01mNone\u001b[39;00m, json\u001b[38;5;241m=\u001b[39m\u001b[38;5;28;01mNone\u001b[39;00m, \u001b[38;5;241m*\u001b[39m\u001b[38;5;241m*\u001b[39mkwargs):\n\u001b[0;32m    627\u001b[0m \u001b[38;5;250m    \u001b[39m\u001b[38;5;124mr\u001b[39m\u001b[38;5;124;03m\"\"\"Sends a POST request. Returns :class:`Response` object.\u001b[39;00m\n\u001b[0;32m    628\u001b[0m \n\u001b[0;32m    629\u001b[0m \u001b[38;5;124;03m    :param url: URL for the new :class:`Request` object.\u001b[39;00m\n\u001b[1;32m   (...)\u001b[0m\n\u001b[0;32m    634\u001b[0m \u001b[38;5;124;03m    :rtype: requests.Response\u001b[39;00m\n\u001b[0;32m    635\u001b[0m \u001b[38;5;124;03m    \"\"\"\u001b[39;00m\n\u001b[1;32m--> 637\u001b[0m     \u001b[38;5;28;01mreturn\u001b[39;00m \u001b[38;5;28;43mself\u001b[39;49m\u001b[38;5;241;43m.\u001b[39;49m\u001b[43mrequest\u001b[49m\u001b[43m(\u001b[49m\u001b[38;5;124;43m\"\u001b[39;49m\u001b[38;5;124;43mPOST\u001b[39;49m\u001b[38;5;124;43m\"\u001b[39;49m\u001b[43m,\u001b[49m\u001b[43m \u001b[49m\u001b[43murl\u001b[49m\u001b[43m,\u001b[49m\u001b[43m \u001b[49m\u001b[43mdata\u001b[49m\u001b[38;5;241;43m=\u001b[39;49m\u001b[43mdata\u001b[49m\u001b[43m,\u001b[49m\u001b[43m \u001b[49m\u001b[43mjson\u001b[49m\u001b[38;5;241;43m=\u001b[39;49m\u001b[43mjson\u001b[49m\u001b[43m,\u001b[49m\u001b[43m \u001b[49m\u001b[38;5;241;43m*\u001b[39;49m\u001b[38;5;241;43m*\u001b[39;49m\u001b[43mkwargs\u001b[49m\u001b[43m)\u001b[49m\n",
      "File \u001b[1;32m~\\AppData\\Local\\Packages\\PythonSoftwareFoundation.Python.3.12_qbz5n2kfra8p0\\LocalCache\\local-packages\\Python312\\site-packages\\requests\\sessions.py:589\u001b[0m, in \u001b[0;36mSession.request\u001b[1;34m(self, method, url, params, data, headers, cookies, files, auth, timeout, allow_redirects, proxies, hooks, stream, verify, cert, json)\u001b[0m\n\u001b[0;32m    584\u001b[0m send_kwargs \u001b[38;5;241m=\u001b[39m {\n\u001b[0;32m    585\u001b[0m     \u001b[38;5;124m\"\u001b[39m\u001b[38;5;124mtimeout\u001b[39m\u001b[38;5;124m\"\u001b[39m: timeout,\n\u001b[0;32m    586\u001b[0m     \u001b[38;5;124m\"\u001b[39m\u001b[38;5;124mallow_redirects\u001b[39m\u001b[38;5;124m\"\u001b[39m: allow_redirects,\n\u001b[0;32m    587\u001b[0m }\n\u001b[0;32m    588\u001b[0m send_kwargs\u001b[38;5;241m.\u001b[39mupdate(settings)\n\u001b[1;32m--> 589\u001b[0m resp \u001b[38;5;241m=\u001b[39m \u001b[38;5;28;43mself\u001b[39;49m\u001b[38;5;241;43m.\u001b[39;49m\u001b[43msend\u001b[49m\u001b[43m(\u001b[49m\u001b[43mprep\u001b[49m\u001b[43m,\u001b[49m\u001b[43m \u001b[49m\u001b[38;5;241;43m*\u001b[39;49m\u001b[38;5;241;43m*\u001b[39;49m\u001b[43msend_kwargs\u001b[49m\u001b[43m)\u001b[49m\n\u001b[0;32m    591\u001b[0m \u001b[38;5;28;01mreturn\u001b[39;00m resp\n",
      "File \u001b[1;32m~\\AppData\\Local\\Packages\\PythonSoftwareFoundation.Python.3.12_qbz5n2kfra8p0\\LocalCache\\local-packages\\Python312\\site-packages\\requests\\sessions.py:703\u001b[0m, in \u001b[0;36mSession.send\u001b[1;34m(self, request, **kwargs)\u001b[0m\n\u001b[0;32m    700\u001b[0m start \u001b[38;5;241m=\u001b[39m preferred_clock()\n\u001b[0;32m    702\u001b[0m \u001b[38;5;66;03m# Send the request\u001b[39;00m\n\u001b[1;32m--> 703\u001b[0m r \u001b[38;5;241m=\u001b[39m \u001b[43madapter\u001b[49m\u001b[38;5;241;43m.\u001b[39;49m\u001b[43msend\u001b[49m\u001b[43m(\u001b[49m\u001b[43mrequest\u001b[49m\u001b[43m,\u001b[49m\u001b[43m \u001b[49m\u001b[38;5;241;43m*\u001b[39;49m\u001b[38;5;241;43m*\u001b[39;49m\u001b[43mkwargs\u001b[49m\u001b[43m)\u001b[49m\n\u001b[0;32m    705\u001b[0m \u001b[38;5;66;03m# Total elapsed time of the request (approximately)\u001b[39;00m\n\u001b[0;32m    706\u001b[0m elapsed \u001b[38;5;241m=\u001b[39m preferred_clock() \u001b[38;5;241m-\u001b[39m start\n",
      "File \u001b[1;32m~\\AppData\\Local\\Packages\\PythonSoftwareFoundation.Python.3.12_qbz5n2kfra8p0\\LocalCache\\local-packages\\Python312\\site-packages\\requests\\adapters.py:682\u001b[0m, in \u001b[0;36mHTTPAdapter.send\u001b[1;34m(self, request, stream, timeout, verify, cert, proxies)\u001b[0m\n\u001b[0;32m    667\u001b[0m     resp \u001b[38;5;241m=\u001b[39m conn\u001b[38;5;241m.\u001b[39murlopen(\n\u001b[0;32m    668\u001b[0m         method\u001b[38;5;241m=\u001b[39mrequest\u001b[38;5;241m.\u001b[39mmethod,\n\u001b[0;32m    669\u001b[0m         url\u001b[38;5;241m=\u001b[39murl,\n\u001b[1;32m   (...)\u001b[0m\n\u001b[0;32m    678\u001b[0m         chunked\u001b[38;5;241m=\u001b[39mchunked,\n\u001b[0;32m    679\u001b[0m     )\n\u001b[0;32m    681\u001b[0m \u001b[38;5;28;01mexcept\u001b[39;00m (ProtocolError, \u001b[38;5;167;01mOSError\u001b[39;00m) \u001b[38;5;28;01mas\u001b[39;00m err:\n\u001b[1;32m--> 682\u001b[0m     \u001b[38;5;28;01mraise\u001b[39;00m \u001b[38;5;167;01mConnectionError\u001b[39;00m(err, request\u001b[38;5;241m=\u001b[39mrequest)\n\u001b[0;32m    684\u001b[0m \u001b[38;5;28;01mexcept\u001b[39;00m MaxRetryError \u001b[38;5;28;01mas\u001b[39;00m e:\n\u001b[0;32m    685\u001b[0m     \u001b[38;5;28;01mif\u001b[39;00m \u001b[38;5;28misinstance\u001b[39m(e\u001b[38;5;241m.\u001b[39mreason, ConnectTimeoutError):\n\u001b[0;32m    686\u001b[0m         \u001b[38;5;66;03m# TODO: Remove this in 3.0.0: see #2811\u001b[39;00m\n",
      "\u001b[1;31mConnectionError\u001b[0m: ('Connection aborted.', RemoteDisconnected('Remote end closed connection without response'))"
     ]
    }
   ],
   "source": [
    "ra_list = coord_data['ra']\n",
    "dec_list = coord_data['dec']\n",
    "mjd_min = 20396 + 40000\n",
    "mjd_max = 20596 + 40000\n",
    "\n",
    "for a, (b,c) in enumerate(zip(ra_list, dec_list)):\n",
    "    fetch_data(b, c, mjd_min=mjd_min, mjd_max=mjd_max, index = a)\n"
   ]
  },
  {
   "cell_type": "code",
   "execution_count": 41,
   "metadata": {},
   "outputs": [
    {
     "name": "stdout",
     "output_type": "stream",
     "text": [
      "The task URL is https://fallingstar-data.com/forcedphot/queue/1827103/\n",
      "Task is running (started at 2024-11-05T15:47:39Z)\n",
      "Task is complete with results available at https://fallingstar-data.com/forcedphot/static/results/job1827103.txt\n",
      "Raw text data saved to c:/Users/jhzhe/Documents/MPhys_Neutrino/input_data/test_data\\text_data23.txt\n"
     ]
    },
    {
     "name": "stderr",
     "output_type": "stream",
     "text": [
      "C:\\Users\\jhzhe\\AppData\\Local\\Temp\\ipykernel_15820\\227255094.py:99: FutureWarning: The 'delim_whitespace' keyword in pd.read_csv is deprecated and will be removed in a future version. Use ``sep='\\s+'`` instead\n",
      "  dfresult = pd.read_csv(StringIO(textdata.replace(\"###\", \"\")), delim_whitespace=True)\n"
     ]
    },
    {
     "name": "stdout",
     "output_type": "stream",
     "text": [
      "The task URL is https://fallingstar-data.com/forcedphot/queue/1827104/\n",
      "Task is running (started at 2024-11-05T15:48:06Z)\n",
      "Task is complete with results available at https://fallingstar-data.com/forcedphot/static/results/job1827104.txt\n",
      "Raw text data saved to c:/Users/jhzhe/Documents/MPhys_Neutrino/input_data/test_data\\text_data24.txt\n"
     ]
    },
    {
     "name": "stderr",
     "output_type": "stream",
     "text": [
      "C:\\Users\\jhzhe\\AppData\\Local\\Temp\\ipykernel_15820\\227255094.py:99: FutureWarning: The 'delim_whitespace' keyword in pd.read_csv is deprecated and will be removed in a future version. Use ``sep='\\s+'`` instead\n",
      "  dfresult = pd.read_csv(StringIO(textdata.replace(\"###\", \"\")), delim_whitespace=True)\n"
     ]
    },
    {
     "name": "stdout",
     "output_type": "stream",
     "text": [
      "The task URL is https://fallingstar-data.com/forcedphot/queue/1827106/\n",
      "Task is running (started at 2024-11-05T15:50:07Z)\n",
      "Task is complete with results available at https://fallingstar-data.com/forcedphot/static/results/job1827106.txt\n",
      "Raw text data saved to c:/Users/jhzhe/Documents/MPhys_Neutrino/input_data/test_data\\text_data25.txt\n"
     ]
    },
    {
     "name": "stderr",
     "output_type": "stream",
     "text": [
      "C:\\Users\\jhzhe\\AppData\\Local\\Temp\\ipykernel_15820\\227255094.py:99: FutureWarning: The 'delim_whitespace' keyword in pd.read_csv is deprecated and will be removed in a future version. Use ``sep='\\s+'`` instead\n",
      "  dfresult = pd.read_csv(StringIO(textdata.replace(\"###\", \"\")), delim_whitespace=True)\n"
     ]
    },
    {
     "name": "stdout",
     "output_type": "stream",
     "text": [
      "The task URL is https://fallingstar-data.com/forcedphot/queue/1827107/\n",
      "Task is running (started at 2024-11-05T15:50:29Z)\n",
      "Task is complete with results available at https://fallingstar-data.com/forcedphot/static/results/job1827107.txt\n",
      "Raw text data saved to c:/Users/jhzhe/Documents/MPhys_Neutrino/input_data/test_data\\text_data26.txt\n"
     ]
    },
    {
     "name": "stderr",
     "output_type": "stream",
     "text": [
      "C:\\Users\\jhzhe\\AppData\\Local\\Temp\\ipykernel_15820\\227255094.py:99: FutureWarning: The 'delim_whitespace' keyword in pd.read_csv is deprecated and will be removed in a future version. Use ``sep='\\s+'`` instead\n",
      "  dfresult = pd.read_csv(StringIO(textdata.replace(\"###\", \"\")), delim_whitespace=True)\n"
     ]
    },
    {
     "name": "stdout",
     "output_type": "stream",
     "text": [
      "The task URL is https://fallingstar-data.com/forcedphot/queue/1827109/\n",
      "Task is running (started at 2024-11-05T15:52:31Z)\n",
      "Task is complete with results available at https://fallingstar-data.com/forcedphot/static/results/job1827109.txt\n",
      "Raw text data saved to c:/Users/jhzhe/Documents/MPhys_Neutrino/input_data/test_data\\text_data27.txt\n"
     ]
    },
    {
     "name": "stderr",
     "output_type": "stream",
     "text": [
      "C:\\Users\\jhzhe\\AppData\\Local\\Temp\\ipykernel_15820\\227255094.py:99: FutureWarning: The 'delim_whitespace' keyword in pd.read_csv is deprecated and will be removed in a future version. Use ``sep='\\s+'`` instead\n",
      "  dfresult = pd.read_csv(StringIO(textdata.replace(\"###\", \"\")), delim_whitespace=True)\n"
     ]
    },
    {
     "name": "stdout",
     "output_type": "stream",
     "text": [
      "The task URL is https://fallingstar-data.com/forcedphot/queue/1827110/\n",
      "Task is running (started at 2024-11-05T15:54:15Z)\n",
      "Task is complete with results available at https://fallingstar-data.com/forcedphot/static/results/job1827110.txt\n",
      "Raw text data saved to c:/Users/jhzhe/Documents/MPhys_Neutrino/input_data/test_data\\text_data28.txt\n"
     ]
    },
    {
     "name": "stderr",
     "output_type": "stream",
     "text": [
      "C:\\Users\\jhzhe\\AppData\\Local\\Temp\\ipykernel_15820\\227255094.py:99: FutureWarning: The 'delim_whitespace' keyword in pd.read_csv is deprecated and will be removed in a future version. Use ``sep='\\s+'`` instead\n",
      "  dfresult = pd.read_csv(StringIO(textdata.replace(\"###\", \"\")), delim_whitespace=True)\n"
     ]
    },
    {
     "name": "stdout",
     "output_type": "stream",
     "text": [
      "The task URL is https://fallingstar-data.com/forcedphot/queue/1827111/\n",
      "Task is running (started at 2024-11-05T15:54:33Z)\n",
      "Task is complete with results available at https://fallingstar-data.com/forcedphot/static/results/job1827111.txt\n",
      "Raw text data saved to c:/Users/jhzhe/Documents/MPhys_Neutrino/input_data/test_data\\text_data29.txt\n"
     ]
    },
    {
     "name": "stderr",
     "output_type": "stream",
     "text": [
      "C:\\Users\\jhzhe\\AppData\\Local\\Temp\\ipykernel_15820\\227255094.py:99: FutureWarning: The 'delim_whitespace' keyword in pd.read_csv is deprecated and will be removed in a future version. Use ``sep='\\s+'`` instead\n",
      "  dfresult = pd.read_csv(StringIO(textdata.replace(\"###\", \"\")), delim_whitespace=True)\n"
     ]
    },
    {
     "name": "stdout",
     "output_type": "stream",
     "text": [
      "The task URL is https://fallingstar-data.com/forcedphot/queue/1827112/\n",
      "Task is running (started at 2024-11-05T15:54:53Z)\n",
      "Task is complete with results available at https://fallingstar-data.com/forcedphot/static/results/job1827112.txt\n",
      "Raw text data saved to c:/Users/jhzhe/Documents/MPhys_Neutrino/input_data/test_data\\text_data30.txt\n"
     ]
    },
    {
     "name": "stderr",
     "output_type": "stream",
     "text": [
      "C:\\Users\\jhzhe\\AppData\\Local\\Temp\\ipykernel_15820\\227255094.py:99: FutureWarning: The 'delim_whitespace' keyword in pd.read_csv is deprecated and will be removed in a future version. Use ``sep='\\s+'`` instead\n",
      "  dfresult = pd.read_csv(StringIO(textdata.replace(\"###\", \"\")), delim_whitespace=True)\n"
     ]
    },
    {
     "name": "stdout",
     "output_type": "stream",
     "text": [
      "The task URL is https://fallingstar-data.com/forcedphot/queue/1827114/\n",
      "Task is running (started at 2024-11-05T15:55:11Z)\n",
      "Task is complete with results available at https://fallingstar-data.com/forcedphot/static/results/job1827114.txt\n",
      "Raw text data saved to c:/Users/jhzhe/Documents/MPhys_Neutrino/input_data/test_data\\text_data31.txt\n"
     ]
    },
    {
     "name": "stderr",
     "output_type": "stream",
     "text": [
      "C:\\Users\\jhzhe\\AppData\\Local\\Temp\\ipykernel_15820\\227255094.py:99: FutureWarning: The 'delim_whitespace' keyword in pd.read_csv is deprecated and will be removed in a future version. Use ``sep='\\s+'`` instead\n",
      "  dfresult = pd.read_csv(StringIO(textdata.replace(\"###\", \"\")), delim_whitespace=True)\n"
     ]
    },
    {
     "name": "stdout",
     "output_type": "stream",
     "text": [
      "The task URL is https://fallingstar-data.com/forcedphot/queue/1827115/\n",
      "Task is running (started at 2024-11-05T15:56:20Z)\n",
      "Task is complete with results available at https://fallingstar-data.com/forcedphot/static/results/job1827115.txt\n",
      "Raw text data saved to c:/Users/jhzhe/Documents/MPhys_Neutrino/input_data/test_data\\text_data32.txt\n"
     ]
    },
    {
     "name": "stderr",
     "output_type": "stream",
     "text": [
      "C:\\Users\\jhzhe\\AppData\\Local\\Temp\\ipykernel_15820\\227255094.py:99: FutureWarning: The 'delim_whitespace' keyword in pd.read_csv is deprecated and will be removed in a future version. Use ``sep='\\s+'`` instead\n",
      "  dfresult = pd.read_csv(StringIO(textdata.replace(\"###\", \"\")), delim_whitespace=True)\n"
     ]
    },
    {
     "name": "stdout",
     "output_type": "stream",
     "text": [
      "The task URL is https://fallingstar-data.com/forcedphot/queue/1827116/\n",
      "Task is running (started at 2024-11-05T15:57:55Z)\n",
      "Task is complete with results available at https://fallingstar-data.com/forcedphot/static/results/job1827116.txt\n",
      "Raw text data saved to c:/Users/jhzhe/Documents/MPhys_Neutrino/input_data/test_data\\text_data33.txt\n"
     ]
    },
    {
     "name": "stderr",
     "output_type": "stream",
     "text": [
      "C:\\Users\\jhzhe\\AppData\\Local\\Temp\\ipykernel_15820\\227255094.py:99: FutureWarning: The 'delim_whitespace' keyword in pd.read_csv is deprecated and will be removed in a future version. Use ``sep='\\s+'`` instead\n",
      "  dfresult = pd.read_csv(StringIO(textdata.replace(\"###\", \"\")), delim_whitespace=True)\n"
     ]
    },
    {
     "name": "stdout",
     "output_type": "stream",
     "text": [
      "The task URL is https://fallingstar-data.com/forcedphot/queue/1827119/\n",
      "Task is running (started at 2024-11-05T15:59:33Z)\n",
      "Task is complete with results available at https://fallingstar-data.com/forcedphot/static/results/job1827119.txt\n",
      "Raw text data saved to c:/Users/jhzhe/Documents/MPhys_Neutrino/input_data/test_data\\text_data34.txt\n"
     ]
    },
    {
     "name": "stderr",
     "output_type": "stream",
     "text": [
      "C:\\Users\\jhzhe\\AppData\\Local\\Temp\\ipykernel_15820\\227255094.py:99: FutureWarning: The 'delim_whitespace' keyword in pd.read_csv is deprecated and will be removed in a future version. Use ``sep='\\s+'`` instead\n",
      "  dfresult = pd.read_csv(StringIO(textdata.replace(\"###\", \"\")), delim_whitespace=True)\n"
     ]
    },
    {
     "name": "stdout",
     "output_type": "stream",
     "text": [
      "The task URL is https://fallingstar-data.com/forcedphot/queue/1827120/\n",
      "Task is running (started at 2024-11-05T15:59:52Z)\n",
      "Task is complete with results available at https://fallingstar-data.com/forcedphot/static/results/job1827120.txt\n",
      "Raw text data saved to c:/Users/jhzhe/Documents/MPhys_Neutrino/input_data/test_data\\text_data35.txt\n"
     ]
    },
    {
     "name": "stderr",
     "output_type": "stream",
     "text": [
      "C:\\Users\\jhzhe\\AppData\\Local\\Temp\\ipykernel_15820\\227255094.py:99: FutureWarning: The 'delim_whitespace' keyword in pd.read_csv is deprecated and will be removed in a future version. Use ``sep='\\s+'`` instead\n",
      "  dfresult = pd.read_csv(StringIO(textdata.replace(\"###\", \"\")), delim_whitespace=True)\n"
     ]
    },
    {
     "name": "stdout",
     "output_type": "stream",
     "text": [
      "The task URL is https://fallingstar-data.com/forcedphot/queue/1827121/\n",
      "Task is running (started at 2024-11-05T16:00:10Z)\n",
      "Task is complete with results available at https://fallingstar-data.com/forcedphot/static/results/job1827121.txt\n",
      "Raw text data saved to c:/Users/jhzhe/Documents/MPhys_Neutrino/input_data/test_data\\text_data36.txt\n"
     ]
    },
    {
     "name": "stderr",
     "output_type": "stream",
     "text": [
      "C:\\Users\\jhzhe\\AppData\\Local\\Temp\\ipykernel_15820\\227255094.py:99: FutureWarning: The 'delim_whitespace' keyword in pd.read_csv is deprecated and will be removed in a future version. Use ``sep='\\s+'`` instead\n",
      "  dfresult = pd.read_csv(StringIO(textdata.replace(\"###\", \"\")), delim_whitespace=True)\n"
     ]
    },
    {
     "name": "stdout",
     "output_type": "stream",
     "text": [
      "The task URL is https://fallingstar-data.com/forcedphot/queue/1827122/\n",
      "Task is running (started at 2024-11-05T16:00:30Z)\n",
      "Task is complete with results available at https://fallingstar-data.com/forcedphot/static/results/job1827122.txt\n",
      "Raw text data saved to c:/Users/jhzhe/Documents/MPhys_Neutrino/input_data/test_data\\text_data37.txt\n"
     ]
    },
    {
     "name": "stderr",
     "output_type": "stream",
     "text": [
      "C:\\Users\\jhzhe\\AppData\\Local\\Temp\\ipykernel_15820\\227255094.py:99: FutureWarning: The 'delim_whitespace' keyword in pd.read_csv is deprecated and will be removed in a future version. Use ``sep='\\s+'`` instead\n",
      "  dfresult = pd.read_csv(StringIO(textdata.replace(\"###\", \"\")), delim_whitespace=True)\n"
     ]
    },
    {
     "name": "stdout",
     "output_type": "stream",
     "text": [
      "The task URL is https://fallingstar-data.com/forcedphot/queue/1827124/\n",
      "Task is running (started at 2024-11-05T16:02:08Z)\n",
      "Task is complete with results available at https://fallingstar-data.com/forcedphot/static/results/job1827124.txt\n",
      "Raw text data saved to c:/Users/jhzhe/Documents/MPhys_Neutrino/input_data/test_data\\text_data38.txt\n"
     ]
    },
    {
     "name": "stderr",
     "output_type": "stream",
     "text": [
      "C:\\Users\\jhzhe\\AppData\\Local\\Temp\\ipykernel_15820\\227255094.py:99: FutureWarning: The 'delim_whitespace' keyword in pd.read_csv is deprecated and will be removed in a future version. Use ``sep='\\s+'`` instead\n",
      "  dfresult = pd.read_csv(StringIO(textdata.replace(\"###\", \"\")), delim_whitespace=True)\n"
     ]
    },
    {
     "name": "stdout",
     "output_type": "stream",
     "text": [
      "The task URL is https://fallingstar-data.com/forcedphot/queue/1827128/\n",
      "Task is running (started at 2024-11-05T16:04:11Z)\n",
      "Task is complete with results available at https://fallingstar-data.com/forcedphot/static/results/job1827128.txt\n",
      "Raw text data saved to c:/Users/jhzhe/Documents/MPhys_Neutrino/input_data/test_data\\text_data39.txt\n"
     ]
    },
    {
     "name": "stderr",
     "output_type": "stream",
     "text": [
      "C:\\Users\\jhzhe\\AppData\\Local\\Temp\\ipykernel_15820\\227255094.py:99: FutureWarning: The 'delim_whitespace' keyword in pd.read_csv is deprecated and will be removed in a future version. Use ``sep='\\s+'`` instead\n",
      "  dfresult = pd.read_csv(StringIO(textdata.replace(\"###\", \"\")), delim_whitespace=True)\n"
     ]
    }
   ],
   "source": [
    "for a, (b,c) in enumerate(zip(ra_list[23:], dec_list[23:]), start = 23):\n",
    "    fetch_data(b, c, mjd_min=mjd_min, mjd_max=mjd_max, index = a)"
   ]
  },
  {
   "cell_type": "code",
   "execution_count": 44,
   "metadata": {},
   "outputs": [
    {
     "name": "stderr",
     "output_type": "stream",
     "text": [
      "INFO:__main__:starting the ``plot_compile`` method\n",
      "INFO:__main__:starting the ``plot_single_result_compile_o`` method\n",
      "INFO:__main__:starting the ``read_and_sigma_clip_data`` function\n",
      "INFO:__main__:completed ``plot_single_result_compile_c``\n",
      "INFO:__main__:starting the ``plot_single_result_compile_o`` method\n",
      "INFO:__main__:starting the ``read_and_sigma_clip_data`` function\n",
      "INFO:__main__:completed ``plot_single_result_compile_o``\n",
      "INFO:__main__:starting the ``plot_single_result_compile_o`` method\n",
      "INFO:__main__:starting the ``read_and_sigma_clip_data`` function\n",
      "INFO:__main__:completed ``plot_single_result_compile_c``\n",
      "INFO:__main__:starting the ``plot_single_result_compile_o`` method\n",
      "INFO:__main__:starting the ``read_and_sigma_clip_data`` function\n",
      "INFO:__main__:completed ``plot_single_result_compile_o``\n",
      "INFO:__main__:starting the ``plot_single_result_compile_o`` method\n",
      "INFO:__main__:starting the ``read_and_sigma_clip_data`` function\n",
      "INFO:__main__:completed ``plot_single_result_compile_c``\n",
      "INFO:__main__:starting the ``plot_single_result_compile_o`` method\n",
      "INFO:__main__:starting the ``read_and_sigma_clip_data`` function\n",
      "INFO:__main__:completed ``plot_single_result_compile_o``\n",
      "INFO:__main__:starting the ``plot_single_result_compile_o`` method\n",
      "INFO:__main__:starting the ``read_and_sigma_clip_data`` function\n",
      "INFO:__main__:completed ``plot_single_result_compile_c``\n",
      "INFO:__main__:starting the ``plot_single_result_compile_o`` method\n",
      "INFO:__main__:starting the ``read_and_sigma_clip_data`` function\n",
      "INFO:__main__:completed ``plot_single_result_compile_o``\n",
      "INFO:__main__:starting the ``plot_single_result_compile_o`` method\n",
      "INFO:__main__:starting the ``read_and_sigma_clip_data`` function\n",
      "INFO:__main__:completed ``plot_single_result_compile_c``\n",
      "INFO:__main__:starting the ``plot_single_result_compile_o`` method\n",
      "INFO:__main__:starting the ``read_and_sigma_clip_data`` function\n",
      "INFO:__main__:completed ``plot_single_result_compile_o``\n",
      "INFO:__main__:starting the ``plot_single_result_compile_o`` method\n",
      "INFO:__main__:starting the ``read_and_sigma_clip_data`` function\n",
      "INFO:__main__:completed ``plot_single_result_compile_c``\n",
      "INFO:__main__:starting the ``plot_single_result_compile_o`` method\n",
      "INFO:__main__:starting the ``read_and_sigma_clip_data`` function\n",
      "INFO:__main__:completed ``plot_single_result_compile_o``\n",
      "INFO:__main__:starting the ``plot_single_result_compile_o`` method\n",
      "INFO:__main__:starting the ``read_and_sigma_clip_data`` function\n",
      "INFO:__main__:completed ``plot_single_result_compile_c``\n",
      "INFO:__main__:starting the ``plot_single_result_compile_o`` method\n",
      "INFO:__main__:starting the ``read_and_sigma_clip_data`` function\n",
      "INFO:__main__:completed ``plot_single_result_compile_o``\n",
      "INFO:__main__:starting the ``plot_single_result_compile_o`` method\n",
      "INFO:__main__:starting the ``read_and_sigma_clip_data`` function\n",
      "INFO:__main__:completed ``plot_single_result_compile_c``\n",
      "INFO:__main__:starting the ``plot_single_result_compile_o`` method\n",
      "INFO:__main__:starting the ``read_and_sigma_clip_data`` function\n",
      "INFO:__main__:completed ``plot_single_result_compile_o``\n",
      "INFO:__main__:starting the ``plot_single_result_compile_o`` method\n",
      "INFO:__main__:starting the ``read_and_sigma_clip_data`` function\n",
      "INFO:__main__:completed ``plot_single_result_compile_c``\n",
      "INFO:__main__:starting the ``plot_single_result_compile_o`` method\n",
      "INFO:__main__:starting the ``read_and_sigma_clip_data`` function\n",
      "INFO:__main__:completed ``plot_single_result_compile_o``\n",
      "INFO:__main__:starting the ``plot_single_result_compile_o`` method\n",
      "INFO:__main__:starting the ``read_and_sigma_clip_data`` function\n",
      "INFO:__main__:completed ``plot_single_result_compile_c``\n",
      "INFO:__main__:starting the ``plot_single_result_compile_o`` method\n",
      "INFO:__main__:starting the ``read_and_sigma_clip_data`` function\n",
      "INFO:__main__:completed ``plot_single_result_compile_o``\n",
      "INFO:__main__:starting the ``plot_single_result_compile_o`` method\n",
      "INFO:__main__:starting the ``read_and_sigma_clip_data`` function\n",
      "INFO:__main__:completed ``plot_single_result_compile_c``\n",
      "INFO:__main__:starting the ``plot_single_result_compile_o`` method\n",
      "INFO:__main__:starting the ``read_and_sigma_clip_data`` function\n",
      "INFO:__main__:completed ``plot_single_result_compile_o``\n",
      "INFO:__main__:starting the ``plot_single_result_compile_o`` method\n",
      "INFO:__main__:starting the ``read_and_sigma_clip_data`` function\n",
      "INFO:__main__:completed ``plot_single_result_compile_c``\n",
      "INFO:__main__:starting the ``plot_single_result_compile_o`` method\n",
      "INFO:__main__:starting the ``read_and_sigma_clip_data`` function\n",
      "INFO:__main__:completed ``plot_single_result_compile_o``\n",
      "INFO:__main__:starting the ``plot_single_result_compile_o`` method\n",
      "INFO:__main__:starting the ``read_and_sigma_clip_data`` function\n",
      "INFO:__main__:completed ``plot_single_result_compile_c``\n",
      "INFO:__main__:starting the ``plot_single_result_compile_o`` method\n",
      "INFO:__main__:starting the ``read_and_sigma_clip_data`` function\n",
      "INFO:__main__:completed ``plot_single_result_compile_o``\n",
      "INFO:__main__:starting the ``plot_single_result_compile_o`` method\n",
      "INFO:__main__:starting the ``read_and_sigma_clip_data`` function\n",
      "INFO:__main__:completed ``plot_single_result_compile_c``\n",
      "INFO:__main__:starting the ``plot_single_result_compile_o`` method\n",
      "INFO:__main__:starting the ``read_and_sigma_clip_data`` function\n",
      "INFO:__main__:completed ``plot_single_result_compile_o``\n",
      "INFO:__main__:starting the ``plot_single_result_compile_o`` method\n",
      "INFO:__main__:starting the ``read_and_sigma_clip_data`` function\n",
      "INFO:__main__:completed ``plot_single_result_compile_c``\n",
      "INFO:__main__:starting the ``plot_single_result_compile_o`` method\n",
      "INFO:__main__:starting the ``read_and_sigma_clip_data`` function\n",
      "INFO:__main__:completed ``plot_single_result_compile_o``\n",
      "INFO:__main__:starting the ``plot_single_result_compile_o`` method\n",
      "INFO:__main__:starting the ``read_and_sigma_clip_data`` function\n",
      "INFO:__main__:completed ``plot_single_result_compile_c``\n",
      "INFO:__main__:starting the ``plot_single_result_compile_o`` method\n",
      "INFO:__main__:starting the ``read_and_sigma_clip_data`` function\n",
      "INFO:__main__:completed ``plot_single_result_compile_o``\n",
      "INFO:__main__:starting the ``plot_single_result_compile_o`` method\n",
      "INFO:__main__:starting the ``read_and_sigma_clip_data`` function\n",
      "INFO:__main__:completed ``plot_single_result_compile_c``\n",
      "INFO:__main__:starting the ``plot_single_result_compile_o`` method\n",
      "INFO:__main__:starting the ``read_and_sigma_clip_data`` function\n",
      "INFO:__main__:completed ``plot_single_result_compile_o``\n",
      "INFO:__main__:starting the ``plot_single_result_compile_o`` method\n",
      "INFO:__main__:starting the ``read_and_sigma_clip_data`` function\n",
      "INFO:__main__:completed ``plot_single_result_compile_c``\n",
      "INFO:__main__:starting the ``plot_single_result_compile_o`` method\n",
      "INFO:__main__:starting the ``read_and_sigma_clip_data`` function\n",
      "INFO:__main__:completed ``plot_single_result_compile_o``\n",
      "INFO:__main__:starting the ``plot_single_result_compile_o`` method\n",
      "INFO:__main__:starting the ``read_and_sigma_clip_data`` function\n",
      "INFO:__main__:completed ``plot_single_result_compile_c``\n",
      "INFO:__main__:starting the ``plot_single_result_compile_o`` method\n",
      "INFO:__main__:starting the ``read_and_sigma_clip_data`` function\n",
      "INFO:__main__:completed ``plot_single_result_compile_o``\n",
      "INFO:__main__:starting the ``plot_single_result_compile_o`` method\n",
      "INFO:__main__:starting the ``read_and_sigma_clip_data`` function\n",
      "INFO:__main__:completed ``plot_single_result_compile_c``\n",
      "INFO:__main__:starting the ``plot_single_result_compile_o`` method\n",
      "INFO:__main__:starting the ``read_and_sigma_clip_data`` function\n",
      "INFO:__main__:completed ``plot_single_result_compile_o``\n",
      "INFO:__main__:starting the ``plot_single_result_compile_o`` method\n",
      "INFO:__main__:starting the ``read_and_sigma_clip_data`` function\n",
      "INFO:__main__:completed ``plot_single_result_compile_c``\n",
      "INFO:__main__:starting the ``plot_single_result_compile_o`` method\n",
      "INFO:__main__:starting the ``read_and_sigma_clip_data`` function\n",
      "INFO:__main__:completed ``plot_single_result_compile_o``\n",
      "INFO:__main__:starting the ``plot_single_result_compile_o`` method\n",
      "INFO:__main__:starting the ``read_and_sigma_clip_data`` function\n",
      "INFO:__main__:completed ``plot_single_result_compile_c``\n",
      "INFO:__main__:starting the ``plot_single_result_compile_o`` method\n",
      "INFO:__main__:starting the ``read_and_sigma_clip_data`` function\n",
      "INFO:__main__:completed ``plot_single_result_compile_o``\n",
      "INFO:__main__:starting the ``plot_single_result_compile_o`` method\n",
      "INFO:__main__:starting the ``read_and_sigma_clip_data`` function\n",
      "INFO:__main__:completed ``plot_single_result_compile_c``\n",
      "INFO:__main__:starting the ``plot_single_result_compile_o`` method\n",
      "INFO:__main__:starting the ``read_and_sigma_clip_data`` function\n",
      "INFO:__main__:completed ``plot_single_result_compile_o``\n",
      "INFO:__main__:starting the ``plot_single_result_compile_o`` method\n",
      "INFO:__main__:starting the ``read_and_sigma_clip_data`` function\n",
      "INFO:__main__:completed ``plot_single_result_compile_c``\n",
      "INFO:__main__:starting the ``plot_single_result_compile_o`` method\n",
      "INFO:__main__:starting the ``read_and_sigma_clip_data`` function\n",
      "INFO:__main__:completed ``plot_single_result_compile_o``\n",
      "INFO:__main__:starting the ``plot_single_result_compile_o`` method\n",
      "INFO:__main__:starting the ``read_and_sigma_clip_data`` function\n",
      "INFO:__main__:completed ``plot_single_result_compile_c``\n",
      "INFO:__main__:starting the ``plot_single_result_compile_o`` method\n",
      "INFO:__main__:starting the ``read_and_sigma_clip_data`` function\n",
      "INFO:__main__:completed ``plot_single_result_compile_o``\n",
      "INFO:__main__:starting the ``plot_single_result_compile_o`` method\n",
      "INFO:__main__:starting the ``read_and_sigma_clip_data`` function\n",
      "INFO:__main__:completed ``plot_single_result_compile_c``\n",
      "INFO:__main__:starting the ``plot_single_result_compile_o`` method\n",
      "INFO:__main__:starting the ``read_and_sigma_clip_data`` function\n",
      "INFO:__main__:completed ``plot_single_result_compile_o``\n",
      "INFO:__main__:starting the ``plot_single_result_compile_o`` method\n",
      "INFO:__main__:starting the ``read_and_sigma_clip_data`` function\n",
      "INFO:__main__:completed ``plot_single_result_compile_c``\n",
      "INFO:__main__:starting the ``plot_single_result_compile_o`` method\n",
      "INFO:__main__:starting the ``read_and_sigma_clip_data`` function\n",
      "INFO:__main__:completed ``plot_single_result_compile_o``\n",
      "INFO:__main__:starting the ``plot_single_result_compile_o`` method\n",
      "INFO:__main__:starting the ``read_and_sigma_clip_data`` function\n",
      "INFO:__main__:completed ``plot_single_result_compile_c``\n",
      "INFO:__main__:starting the ``plot_single_result_compile_o`` method\n",
      "INFO:__main__:starting the ``read_and_sigma_clip_data`` function\n",
      "INFO:__main__:completed ``plot_single_result_compile_o``\n",
      "INFO:__main__:starting the ``plot_single_result_compile_o`` method\n",
      "INFO:__main__:starting the ``read_and_sigma_clip_data`` function\n",
      "INFO:__main__:completed ``plot_single_result_compile_c``\n",
      "INFO:__main__:starting the ``plot_single_result_compile_o`` method\n",
      "INFO:__main__:starting the ``read_and_sigma_clip_data`` function\n",
      "INFO:__main__:completed ``plot_single_result_compile_o``\n",
      "INFO:__main__:starting the ``plot_single_result_compile_o`` method\n",
      "INFO:__main__:starting the ``read_and_sigma_clip_data`` function\n",
      "INFO:__main__:completed ``plot_single_result_compile_c``\n",
      "INFO:__main__:starting the ``plot_single_result_compile_o`` method\n",
      "INFO:__main__:starting the ``read_and_sigma_clip_data`` function\n",
      "INFO:__main__:completed ``plot_single_result_compile_o``\n",
      "INFO:__main__:starting the ``plot_single_result_compile_o`` method\n",
      "INFO:__main__:starting the ``read_and_sigma_clip_data`` function\n",
      "INFO:__main__:completed ``plot_single_result_compile_c``\n",
      "INFO:__main__:starting the ``plot_single_result_compile_o`` method\n",
      "INFO:__main__:starting the ``read_and_sigma_clip_data`` function\n",
      "INFO:__main__:completed ``plot_single_result_compile_o``\n",
      "INFO:__main__:starting the ``plot_single_result_compile_o`` method\n",
      "INFO:__main__:starting the ``read_and_sigma_clip_data`` function\n",
      "INFO:__main__:completed ``plot_single_result_compile_c``\n",
      "INFO:__main__:starting the ``plot_single_result_compile_o`` method\n",
      "INFO:__main__:starting the ``read_and_sigma_clip_data`` function\n",
      "INFO:__main__:completed ``plot_single_result_compile_o``\n",
      "INFO:__main__:starting the ``plot_single_result_compile_o`` method\n",
      "INFO:__main__:starting the ``read_and_sigma_clip_data`` function\n",
      "INFO:__main__:completed ``plot_single_result_compile_c``\n",
      "INFO:__main__:starting the ``plot_single_result_compile_o`` method\n",
      "INFO:__main__:starting the ``read_and_sigma_clip_data`` function\n",
      "INFO:__main__:completed ``plot_single_result_compile_o``\n",
      "INFO:__main__:starting the ``plot_single_result_compile_o`` method\n",
      "INFO:__main__:starting the ``read_and_sigma_clip_data`` function\n",
      "INFO:__main__:completed ``plot_single_result_compile_c``\n",
      "INFO:__main__:starting the ``plot_single_result_compile_o`` method\n",
      "INFO:__main__:starting the ``read_and_sigma_clip_data`` function\n",
      "INFO:__main__:completed ``plot_single_result_compile_o``\n",
      "INFO:__main__:starting the ``plot_single_result_compile_o`` method\n",
      "INFO:__main__:starting the ``read_and_sigma_clip_data`` function\n",
      "INFO:__main__:completed ``plot_single_result_compile_c``\n",
      "INFO:__main__:starting the ``plot_single_result_compile_o`` method\n",
      "INFO:__main__:starting the ``read_and_sigma_clip_data`` function\n",
      "INFO:__main__:completed ``plot_single_result_compile_o``\n",
      "INFO:__main__:starting the ``plot_single_result_compile_o`` method\n",
      "INFO:__main__:starting the ``read_and_sigma_clip_data`` function\n",
      "INFO:__main__:completed ``plot_single_result_compile_c``\n",
      "INFO:__main__:starting the ``plot_single_result_compile_o`` method\n",
      "INFO:__main__:starting the ``read_and_sigma_clip_data`` function\n",
      "INFO:__main__:completed ``plot_single_result_compile_o``\n",
      "INFO:__main__:starting the ``plot_single_result_compile_o`` method\n",
      "INFO:__main__:starting the ``read_and_sigma_clip_data`` function\n",
      "INFO:__main__:completed ``plot_single_result_compile_c``\n",
      "INFO:__main__:starting the ``plot_single_result_compile_o`` method\n",
      "INFO:__main__:starting the ``read_and_sigma_clip_data`` function\n",
      "INFO:__main__:completed ``plot_single_result_compile_o``\n",
      "INFO:__main__:starting the ``plot_single_result_compile_o`` method\n",
      "INFO:__main__:starting the ``read_and_sigma_clip_data`` function\n",
      "INFO:__main__:completed ``plot_single_result_compile_c``\n",
      "INFO:__main__:starting the ``plot_single_result_compile_o`` method\n",
      "INFO:__main__:starting the ``read_and_sigma_clip_data`` function\n",
      "INFO:__main__:completed ``plot_single_result_compile_o``\n",
      "INFO:__main__:starting the ``plot_single_result_compile_o`` method\n",
      "INFO:__main__:starting the ``read_and_sigma_clip_data`` function\n",
      "INFO:__main__:completed ``plot_single_result_compile_c``\n",
      "INFO:__main__:starting the ``plot_single_result_compile_o`` method\n",
      "INFO:__main__:starting the ``read_and_sigma_clip_data`` function\n",
      "INFO:__main__:completed ``plot_single_result_compile_o``\n",
      "INFO:__main__:starting the ``plot_single_result_compile_o`` method\n",
      "INFO:__main__:starting the ``read_and_sigma_clip_data`` function\n",
      "INFO:__main__:completed ``plot_single_result_compile_c``\n",
      "INFO:__main__:starting the ``plot_single_result_compile_o`` method\n",
      "INFO:__main__:starting the ``read_and_sigma_clip_data`` function\n",
      "INFO:__main__:completed ``plot_single_result_compile_o``\n",
      "INFO:__main__:completed the ``plot_compile`` method\n"
     ]
    }
   ],
   "source": [
    "from plot_atlas_fp import plotter\n",
    "import logging\n",
    "# Initiliasing the plotter class\n",
    "resultsFilePath = [os.path.join(input_dir_txt, file) for file in os.listdir(input_dir_txt) if file.endswith('.txt')]\n",
    "\n",
    "logging.basicConfig(level=logging.INFO) \n",
    "log = logging.getLogger(__name__)\n",
    "myPlotter = plotter(\n",
    "    log = log,\n",
    "    resultFilePaths = resultsFilePath,\n",
    "    outputDirectory = output_dir,\n",
    "    plotType = \"png\",\n",
    "    RA_list = ra_list,\n",
    "    dec_list = dec_list\n",
    ")\n",
    "\n",
    "plotPaths = myPlotter.plot_compile()"
   ]
  },
  {
   "cell_type": "code",
   "execution_count": 45,
   "metadata": {},
   "outputs": [
    {
     "data": {
      "text/plain": [
       "['C:\\\\Users\\\\jhzhe\\\\Downloads//combined_plot_c.png',\n",
       " 'C:\\\\Users\\\\jhzhe\\\\Downloads//combined_plot_o.png']"
      ]
     },
     "execution_count": 45,
     "metadata": {},
     "output_type": "execute_result"
    }
   ],
   "source": [
    "plotPaths"
   ]
  },
  {
   "cell_type": "code",
   "execution_count": null,
   "metadata": {},
   "outputs": [],
   "source": []
  }
 ],
 "metadata": {
  "kernelspec": {
   "display_name": "Python 3",
   "language": "python",
   "name": "python3"
  },
  "language_info": {
   "codemirror_mode": {
    "name": "ipython",
    "version": 3
   },
   "file_extension": ".py",
   "mimetype": "text/x-python",
   "name": "python",
   "nbconvert_exporter": "python",
   "pygments_lexer": "ipython3",
   "version": "3.12.7"
  }
 },
 "nbformat": 4,
 "nbformat_minor": 2
}
