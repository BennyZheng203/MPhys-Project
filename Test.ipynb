{
 "cells": [
  {
   "cell_type": "code",
   "execution_count": 1,
   "metadata": {},
   "outputs": [
    {
     "name": "stderr",
     "output_type": "stream",
     "text": [
      "C:\\Users\\jhzhe\\Downloads\\atlas_fp\\plot_atlas_fp.py:270: SyntaxWarning: invalid escape sequence '\\m'\n",
      "  ax2.set_ylabel('Flux ($\\mu$Jy)', rotation=-90., labelpad=27)\n",
      "C:\\Users\\jhzhe\\Downloads\\atlas_fp\\plot_atlas_fp.py:321: SyntaxWarning: invalid escape sequence '\\m'\n",
      "  ax.set_ylabel('Flux ($\\mu$Jy)', labelpad=20)\n",
      "C:\\Users\\jhzhe\\Downloads\\atlas_fp\\plot_atlas_fp.py:328: SyntaxWarning: invalid escape sequence '\\m'\n",
      "  ax2.set_ylabel('Flux ($\\mu$Jy)', rotation=-90., labelpad=27)\n"
     ]
    }
   ],
   "source": [
    "from plot_atlas_fp import plotter\n",
    "import logging\n",
    "import os\n",
    "\n",
    "# Set up logging\n",
    "logging.basicConfig(level=logging.INFO)  # Change to DEBUG for more detailed logs\n",
    "log = logging.getLogger(__name__)\n"
   ]
  },
  {
   "cell_type": "code",
   "execution_count": 17,
   "metadata": {},
   "outputs": [
    {
     "name": "stderr",
     "output_type": "stream",
     "text": [
      "INFO:__main__:starting the ``plot`` method\n",
      "INFO:__main__:setup figure\n",
      "INFO:__main__:starting the ``plot_single_result`` method\n",
      "INFO:__main__:starting the ``read_and_sigma_clip_data`` function\n",
      "INFO:__main__:finished plotting text_data0_\n",
      "INFO:__main__:completed the ``plot`` method\n"
     ]
    }
   ],
   "source": [
    "# Define the input and output directories\n",
    "input_dir = r'c:/Users/jhzhe/Documents/MPhys_Neutrino/input_data'\n",
    "output_dir = r'c:/Users/jhzhe/Documents/MPhys_Neutrino/output_data'\n",
    "\n",
    "# Get a list of all .txt files in the input directory\n",
    "resultFilePaths = [os.path.join(input_dir, file) for file in os.listdir(input_dir) if file.endswith('.txt')]\n",
    "\n",
    "myplotter = plotter(\n",
    "    log=log, \n",
    "    resultFilePaths= resultFilePaths, \n",
    "    outputDirectory = output_dir, \n",
    "    plotType=\"png\"\n",
    "    )\n",
    "plotPaths = myplotter.plot()"
   ]
  },
  {
   "cell_type": "code",
   "execution_count": 16,
   "metadata": {},
   "outputs": [
    {
     "ename": "TypeError",
     "evalue": "plotter.plot() takes 1 positional argument but 2 were given",
     "output_type": "error",
     "traceback": [
      "\u001b[1;31m---------------------------------------------------------------------------\u001b[0m",
      "\u001b[1;31mTypeError\u001b[0m                                 Traceback (most recent call last)",
      "Cell \u001b[1;32mIn[16], line 1\u001b[0m\n\u001b[1;32m----> 1\u001b[0m \u001b[43mmyplotter\u001b[49m\u001b[38;5;241;43m.\u001b[39;49m\u001b[43mplot\u001b[49m\u001b[43m(\u001b[49m\u001b[38;5;124;43mr\u001b[39;49m\u001b[38;5;124;43m\"\u001b[39;49m\u001b[38;5;124;43mc:\u001b[39;49m\u001b[38;5;124;43m\\\u001b[39;49m\u001b[38;5;124;43mUsers\u001b[39;49m\u001b[38;5;124;43m\\\u001b[39;49m\u001b[38;5;124;43mjhzhe\u001b[39;49m\u001b[38;5;124;43m\\\u001b[39;49m\u001b[38;5;124;43mDocuments\u001b[39;49m\u001b[38;5;124;43m\\\u001b[39;49m\u001b[38;5;124;43mMPhys_Neutrino\u001b[39;49m\u001b[38;5;124;43m\\\u001b[39;49m\u001b[38;5;124;43moutput_data\u001b[39;49m\u001b[38;5;124;43m\\\u001b[39;49m\u001b[38;5;124;43mtext_data0.txt\u001b[39;49m\u001b[38;5;124;43m\"\u001b[39;49m\u001b[43m)\u001b[49m\n",
      "\u001b[1;31mTypeError\u001b[0m: plotter.plot() takes 1 positional argument but 2 were given"
     ]
    }
   ],
   "source": [
    "myplotter.plot(r\"c:\\Users\\jhzhe\\Documents\\MPhys_Neutrino\\output_data\\text_data0.txt\")"
   ]
  },
  {
   "cell_type": "code",
   "execution_count": null,
   "metadata": {},
   "outputs": [],
   "source": []
  }
 ],
 "metadata": {
  "kernelspec": {
   "display_name": "Python 3",
   "language": "python",
   "name": "python3"
  },
  "language_info": {
   "codemirror_mode": {
    "name": "ipython",
    "version": 3
   },
   "file_extension": ".py",
   "mimetype": "text/x-python",
   "name": "python",
   "nbconvert_exporter": "python",
   "pygments_lexer": "ipython3",
   "version": "3.12.7"
  }
 },
 "nbformat": 4,
 "nbformat_minor": 2
}
